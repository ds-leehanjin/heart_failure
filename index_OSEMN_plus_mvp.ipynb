{
 "cells": [
  {
   "cell_type": "markdown",
   "metadata": {},
   "source": [
    "## OVERVIEW OF OSEMiN"
   ]
  },
  {
   "cell_type": "markdown",
   "metadata": {},
   "source": [
    "<img src='https://raw.githubusercontent.com/jirvingphd/fsds_100719_cohort_notes/master/images/OSEMN.png' width=800>\n",
    "\n",
    "<center><a href=\"https://www.kdnuggets.com/2018/02/data-science-command-line-book-exploring-data.html\"> \n",
    "    </a></center>\n",
    "\n",
    "\n",
    "> <font size=2em>The Data Science Process we'll be using during this section--OSEMiN (pronounced \"OH-sum\", rhymes with \"possum\").  This is the most straightforward of the Data Science Processes discussed so far.  **Note that during this process, just like the others, the stages often blur together.***  It is completely acceptable (and ***often a best practice!) to float back and forth** between stages as you learn new things about your problem, dataset, requirements, etc.  \n",
    "It's quite common to get to the modeling step and realize that you need to scrub your data a bit more or engineer a different feature and jump back to the \"Scrub\" stage, or go all the way back to the \"Obtain\" stage when you realize your current data isn't sufficient to solve this problem. \n",
    "As with any of these frameworks, *OSEMiN is meant to be treated as guidelines, not law. \n",
    "</font>\n",
    "\n",
    "\n",
    "### OSEMN DETAILS\n",
    "\n",
    "**OBTAIN**\n",
    "\n",
    "- This step involves understanding stakeholder requirements, gathering information on the problem, and finally sourcing data that we think will be necessary for solving this problem. \n",
    "\n",
    "**SCRUB**\n",
    "\n",
    "- During this stage, we'll focus on preprocessing our data.  Important steps such as identifying and removing null values, dealing with outliers, normalizing data, and feature engineering/feature selection are handled around this stage.  The line with this stage really blurs with the _Explore_ stage, as it is common to only realize that certain columns require cleaning or preprocessing as a result of the visualzations and explorations done during Step 3.  \n",
    "\n",
    "- Note that although technically, categorical data should be one-hot encoded during this step, in practice, it's usually done after data exploration.  This is because it is much less time-consuming to visualize and explore a few columns containing categorical data than it is to explore many different dummy columns that have been one-hot encoded. \n",
    "\n",
    "**EXPLORE**\n",
    "\n",
    "- This step focuses on getting to know the dataset you're working with. As mentioned above, this step tends to blend with the _Scrub_ step mentioned above.  During this step, you'll create visualizations to really get a feel for your dataset.  You'll focus on things such as understanding the distribution of different columns, checking for multicollinearity, and other tasks liek that.  If your project is a classification task, you may check the balance of the different classes in your dataset.  If your problem is a regression task, you may check that the dataset meets the assumptions necessary for a regression task.  \n",
    "\n",
    "- At the end of this step, you should have a dataset ready for modeling that you've thoroughly explored and are extremely familiar with.  \n",
    "\n",
    "**MODEL**\n",
    "\n",
    "- This step, as with the last two frameworks, is also pretty self-explanatory. It consists of building and tuning models using all the tools you have in your data science toolbox.  In practice, this often means defining a threshold for success, selecting machine learning algorithms to test on the project, and tuning the ones that show promise to try and increase your results.  As with the other stages, it is both common and accepted to realize something, jump back to a previous stage like _Scrub_ or _Explore_, and make some changes to see how it affects the model.  \n",
    "\n",
    "**iNTERPRET**\n",
    "\n",
    "- During this step, you'll interpret the results of your model(s), and communicate results to stakeholders.  As with the other frameworks, communication is incredibily important! During this stage, you may come to realize that further investigation is needed, or more data.  That's totally fine--figure out what's needed, go get it, and start the process over! If your results are satisfactory to all stakeholders involved, you may also go from this stage right into productionizing your model and automating processes necessary to support it.  \n",
    "\n",
    "\n",
    "\n"
   ]
  },
  {
   "cell_type": "markdown",
   "metadata": {},
   "source": [
    "## PROCESS CHECKLIST\n"
   ]
  },
  {
   "cell_type": "markdown",
   "metadata": {},
   "source": [
    "> Keep in mind that it is normal to jump between the OSEMN phases and some of them will blend together, like SCRUB and EXPLORE."
   ]
  },
  {
   "cell_type": "markdown",
   "metadata": {},
   "source": [
    "1. **[OBTAIN](#OBTAIN)**\n",
    "    - Import data, inspect, check for datatypes to convert and null values\n",
    "    - Display header and info.\n",
    "    - Drop any unneeded columns, if known (`df.drop(['col1','col2'],axis=1,inplace=True`)\n",
    "    <br><br>\n",
    "\n",
    "\n",
    "2. **[SCRUB](#SCRUB)**\n",
    "    - Recast data types, identify outliers, check for multicollinearity, normalize data**\n",
    "    - Check and cast data types\n",
    "        - [ ] Check for #'s that are store as objects (`df.info()`,`df.describe()`)\n",
    "            - when converting to #'s, look for odd values (like many 0's), or strings that can't be converted.\n",
    "            - Decide how to deal weird/null values (`df.unique()`, `df.isna().sum()`)\n",
    "            - `df.fillna(subset=['col_with_nulls'],'fill_value')`, `df.replace()`\n",
    "        - [ ] Check for categorical variables stored as integers.\n",
    "            - May be easier to tell when you make a scatter plotm or `pd.plotting.scatter_matrix()`\n",
    "            \n",
    "    - [ ] Check for missing values  (df.isna().sum())\n",
    "        - Can drop rows or colums\n",
    "        - For missing numeric data with median or bin/convert to categorical\n",
    "        - For missing categorical data: make NaN own category OR replace with most common category\n",
    "    - [ ] Check for multicollinearity\n",
    "        - Use seaborn to make correlation matrix plot \n",
    "        - Good rule of thumb is anything over 0.75 corr is high, remove the variable that has the most correl with the largest # of variables\n",
    "    - [ ] Normalize data (may want to do after some exploring)\n",
    "        - Most popular is Z-scoring (but won't fix skew) \n",
    "        - Can log-transform to fix skewed data\n",
    "    \n",
    "    \n",
    "3. **[EXPLORE](#EXPLORE)**\n",
    "    - [ ] Check distributions, outliers, etc**\n",
    "    - [ ] Check scales, ranges (df.describe())\n",
    "    - [ ] Check histograms to get an idea of distributions (df.hist()) and data transformations to perform.\n",
    "        - Can also do kernel density estimates\n",
    "    - [ ] Use scatter plots to check for linearity and possible categorical variables (`df.plot(\"x\",\"y\")`)\n",
    "        - categoricals will look like vertical lines\n",
    "    - [ ] Use `pd.plotting.scatter_matrix(df)` to visualize possible relationships\n",
    "    - [ ] Check for linearity.\n",
    "   \n",
    "   \n",
    "4. **[MODEL](#MODEL)**\n",
    "\n",
    "    - **Fit an initial model:** \n",
    "        - Run an initial model and get results\n",
    "\n",
    "    - **Holdout validation / Train/test split**\n",
    "        - use sklearn `train_test_split`\n",
    "    \n",
    "    \n",
    "5. **[iNTERPRET](#iNTERPRET)**\n",
    "    - **Assessing the model:**\n",
    "        - Assess parameters (slope,intercept)\n",
    "        - Check if the model explains the variation in the data (RMSE, F, R_square)\n",
    "        - *Are the coeffs, slopes, intercepts in appropriate units?*\n",
    "        - *Whats the impact of collinearity? Can we ignore?*\n",
    "        <br><br>\n",
    "    - **Revise the fitted model**\n",
    "        - Multicollinearity is big issue for lin regression and cannot fully remove it\n",
    "        - Use the predictive ability of model to test it (like R2 and RMSE)\n",
    "        - Check for missed non-linearity\n",
    "        \n",
    "       \n",
    "6. **Interpret final model and draw >=3 conclusions and recommendations from dataset**"
   ]
  },
  {
   "cell_type": "markdown",
   "metadata": {
    "ExecuteTime": {
     "end_time": "2020-01-29T18:00:23.504059Z",
     "start_time": "2020-01-29T18:00:23.498461Z"
    }
   },
   "source": [
    "<div style=\"display:block;border-bottom:solid red 3px;padding:1.4em;color:red;font-size:30pt;display:inline-block;line-height:1.5em;\">\n",
    "DELETE THIS CELL AND EVERYTHING ABOVE FROM YOUR FINAL NOTEBOOK\n",
    "</div>"
   ]
  },
  {
   "cell_type": "markdown",
   "metadata": {},
   "source": [
    "# Final Project Submission"
   ]
  },
  {
   "cell_type": "markdown",
   "metadata": {},
   "source": [
    "Please fill out:\n",
    "* Student name: \n",
    "* Student pace: self paced / part time / full time:\n",
    "* Scheduled project review date/time: \n",
    "* Instructor name: \n",
    "* Blog post URL:\n",
    "* Video of 5-min Non-Technical Presentation:"
   ]
  },
  {
   "cell_type": "markdown",
   "metadata": {},
   "source": [
    "## TABLE OF CONTENTS "
   ]
  },
  {
   "cell_type": "markdown",
   "metadata": {},
   "source": [
    "*Click to jump to matching Markdown Header.*<br><br>\n",
    " \n",
    "- **[Introduction](#INTRODUCTION)<br>**\n",
    "- **[OBTAIN](#OBTAIN)**<br>\n",
    "- **[SCRUB](#SCRUB)**<br>\n",
    "- **[EXPLORE](#EXPLORE)**<br>\n",
    "- **[MODEL](#MODEL)**<br>\n",
    "- **[iNTERPRET](#iNTERPRET)**<br>\n",
    "- **[Conclusions/Recommendations](#CONCLUSIONS-&-RECOMMENDATIONS)<br>**\n",
    "___"
   ]
  },
  {
   "cell_type": "markdown",
   "metadata": {},
   "source": [
    "# INTRODUCTION"
   ]
  },
  {
   "cell_type": "markdown",
   "metadata": {},
   "source": [
    "> Explain the point of your project and what question you are trying to answer with your modeling.\n",
    "\n",
    "## Business Problem\n",
    "\n",
    "Summary of the business problem you are trying to solve, and the data questions that you plan to answer to solve them.\n",
    "\n",
    "***\n",
    "Questions to consider:\n",
    "* What are the business's pain points related to this project?\n",
    "* How did you pick the data analysis question(s) that you did?\n",
    "* Why are these questions important from a business perspective?\n",
    "***\n",
    "\n"
   ]
  },
  {
   "cell_type": "markdown",
   "metadata": {},
   "source": [
    "# OBTAIN"
   ]
  },
  {
   "cell_type": "markdown",
   "metadata": {},
   "source": [
    "## Data Understanding\n",
    "\n",
    "Describe the data being used for this project.\n",
    "***\n",
    "Questions to consider:\n",
    "* Where did the data come from, and how do they relate to the data analysis questions?\n",
    "* What do the data represent? Who is in the sample and what variables are included?\n",
    "* What is the target variable?\n",
    "* What are the properties of the variables you intend to use?\n",
    "***\n"
   ]
  },
  {
   "cell_type": "markdown",
   "metadata": {},
   "source": [
    "Cardiovascular diseases (CVDs) are the number 1 cause of death globally, taking an estimated 17.9 million lives each year, which accounts for 31% of all deaths worldwide. Four out of 5 CVD deaths are due to heart attacks and strokes, and one-third of these deaths occur prematurely in people under 70 years of age. Heart failure is a common event caused by CVDs and this dataset contains 11 features that can be used to predict a possible heart disease.\n",
    "\n",
    "People with cardiovascular disease or who are at high cardiovascular risk (due to the presence of one or more risk factors such as hypertension, diabetes, hyperlipidaemia or already established disease) need early detection and management wherein a machine learning model can be of great help."
   ]
  },
  {
   "cell_type": "code",
   "execution_count": 1,
   "metadata": {
    "ExecuteTime": {
     "end_time": "2021-11-07T07:10:48.271647Z",
     "start_time": "2021-11-07T07:10:46.494571Z"
    }
   },
   "outputs": [],
   "source": [
    "# Import packages to be used in notebook.\n",
    "import pandas as pd\n",
    "import numpy as np\n",
    "np.random.seed(42)\n",
    "import seaborn as sns\n",
    "\n",
    "import matplotlib.pyplot as plt\n",
    "from matplotlib.gridspec import GridSpec\n",
    "\n",
    "from sklearn.model_selection import train_test_split, GridSearchCV\n",
    "from sklearn.preprocessing import StandardScaler, MinMaxScaler\n",
    "from sklearn.linear_model import LogisticRegression, LogisticRegressionCV\n",
    "from sklearn.ensemble import RandomForestClassifier\n",
    "from sklearn.preprocessing import OneHotEncoder, OrdinalEncoder\n",
    "from sklearn import metrics \n",
    "\n",
    "from sklearn.svm import SVC\n",
    "\n",
    "from xgboost import XGBRFClassifier, XGBClassifier\n",
    "\n",
    "%matplotlib inline\n",
    "\n",
    "import warnings\n",
    "warnings.filterwarnings('ignore')"
   ]
  },
  {
   "cell_type": "code",
   "execution_count": 2,
   "metadata": {
    "ExecuteTime": {
     "end_time": "2021-11-07T07:10:48.305656Z",
     "start_time": "2021-11-07T07:10:48.274295Z"
    }
   },
   "outputs": [
    {
     "name": "stdout",
     "output_type": "stream",
     "text": [
      "<class 'pandas.core.frame.DataFrame'>\n",
      "RangeIndex: 918 entries, 0 to 917\n",
      "Data columns (total 12 columns):\n",
      " #   Column          Non-Null Count  Dtype  \n",
      "---  ------          --------------  -----  \n",
      " 0   Age             918 non-null    int64  \n",
      " 1   Sex             918 non-null    object \n",
      " 2   ChestPainType   918 non-null    object \n",
      " 3   RestingBP       918 non-null    int64  \n",
      " 4   Cholesterol     918 non-null    int64  \n",
      " 5   FastingBS       918 non-null    int64  \n",
      " 6   RestingECG      918 non-null    object \n",
      " 7   MaxHR           918 non-null    int64  \n",
      " 8   ExerciseAngina  918 non-null    object \n",
      " 9   Oldpeak         918 non-null    float64\n",
      " 10  ST_Slope        918 non-null    object \n",
      " 11  HeartDisease    918 non-null    int64  \n",
      "dtypes: float64(1), int64(6), object(5)\n",
      "memory usage: 86.2+ KB\n"
     ]
    },
    {
     "data": {
      "text/html": [
       "<div>\n",
       "<style scoped>\n",
       "    .dataframe tbody tr th:only-of-type {\n",
       "        vertical-align: middle;\n",
       "    }\n",
       "\n",
       "    .dataframe tbody tr th {\n",
       "        vertical-align: top;\n",
       "    }\n",
       "\n",
       "    .dataframe thead th {\n",
       "        text-align: right;\n",
       "    }\n",
       "</style>\n",
       "<table border=\"1\" class=\"dataframe\">\n",
       "  <thead>\n",
       "    <tr style=\"text-align: right;\">\n",
       "      <th></th>\n",
       "      <th>Age</th>\n",
       "      <th>Sex</th>\n",
       "      <th>ChestPainType</th>\n",
       "      <th>RestingBP</th>\n",
       "      <th>Cholesterol</th>\n",
       "      <th>FastingBS</th>\n",
       "      <th>RestingECG</th>\n",
       "      <th>MaxHR</th>\n",
       "      <th>ExerciseAngina</th>\n",
       "      <th>Oldpeak</th>\n",
       "      <th>ST_Slope</th>\n",
       "      <th>HeartDisease</th>\n",
       "    </tr>\n",
       "  </thead>\n",
       "  <tbody>\n",
       "    <tr>\n",
       "      <th>0</th>\n",
       "      <td>40</td>\n",
       "      <td>M</td>\n",
       "      <td>ATA</td>\n",
       "      <td>140</td>\n",
       "      <td>289</td>\n",
       "      <td>0</td>\n",
       "      <td>Normal</td>\n",
       "      <td>172</td>\n",
       "      <td>N</td>\n",
       "      <td>0.0</td>\n",
       "      <td>Up</td>\n",
       "      <td>0</td>\n",
       "    </tr>\n",
       "    <tr>\n",
       "      <th>1</th>\n",
       "      <td>49</td>\n",
       "      <td>F</td>\n",
       "      <td>NAP</td>\n",
       "      <td>160</td>\n",
       "      <td>180</td>\n",
       "      <td>0</td>\n",
       "      <td>Normal</td>\n",
       "      <td>156</td>\n",
       "      <td>N</td>\n",
       "      <td>1.0</td>\n",
       "      <td>Flat</td>\n",
       "      <td>1</td>\n",
       "    </tr>\n",
       "    <tr>\n",
       "      <th>2</th>\n",
       "      <td>37</td>\n",
       "      <td>M</td>\n",
       "      <td>ATA</td>\n",
       "      <td>130</td>\n",
       "      <td>283</td>\n",
       "      <td>0</td>\n",
       "      <td>ST</td>\n",
       "      <td>98</td>\n",
       "      <td>N</td>\n",
       "      <td>0.0</td>\n",
       "      <td>Up</td>\n",
       "      <td>0</td>\n",
       "    </tr>\n",
       "    <tr>\n",
       "      <th>3</th>\n",
       "      <td>48</td>\n",
       "      <td>F</td>\n",
       "      <td>ASY</td>\n",
       "      <td>138</td>\n",
       "      <td>214</td>\n",
       "      <td>0</td>\n",
       "      <td>Normal</td>\n",
       "      <td>108</td>\n",
       "      <td>Y</td>\n",
       "      <td>1.5</td>\n",
       "      <td>Flat</td>\n",
       "      <td>1</td>\n",
       "    </tr>\n",
       "    <tr>\n",
       "      <th>4</th>\n",
       "      <td>54</td>\n",
       "      <td>M</td>\n",
       "      <td>NAP</td>\n",
       "      <td>150</td>\n",
       "      <td>195</td>\n",
       "      <td>0</td>\n",
       "      <td>Normal</td>\n",
       "      <td>122</td>\n",
       "      <td>N</td>\n",
       "      <td>0.0</td>\n",
       "      <td>Up</td>\n",
       "      <td>0</td>\n",
       "    </tr>\n",
       "  </tbody>\n",
       "</table>\n",
       "</div>"
      ],
      "text/plain": [
       "   Age Sex ChestPainType  RestingBP  Cholesterol  FastingBS RestingECG  MaxHR  \\\n",
       "0   40   M           ATA        140          289          0     Normal    172   \n",
       "1   49   F           NAP        160          180          0     Normal    156   \n",
       "2   37   M           ATA        130          283          0         ST     98   \n",
       "3   48   F           ASY        138          214          0     Normal    108   \n",
       "4   54   M           NAP        150          195          0     Normal    122   \n",
       "\n",
       "  ExerciseAngina  Oldpeak ST_Slope  HeartDisease  \n",
       "0              N      0.0       Up             0  \n",
       "1              N      1.0     Flat             1  \n",
       "2              N      0.0       Up             0  \n",
       "3              Y      1.5     Flat             1  \n",
       "4              N      0.0       Up             0  "
      ]
     },
     "metadata": {},
     "output_type": "display_data"
    },
    {
     "data": {
      "text/plain": [
       "None"
      ]
     },
     "metadata": {},
     "output_type": "display_data"
    }
   ],
   "source": [
    "# Load data and display basic info.\n",
    "df = pd.read_csv('data/heart.csv')\n",
    "display(df.head(5), df.info())"
   ]
  },
  {
   "cell_type": "markdown",
   "metadata": {},
   "source": [
    "1. Age: age of the patient (years)\n",
    "2. Sex: sex of the patient (M: Male, F: Female)\n",
    "3. ChestPainType: chest pain type (TA: Typical Angina, ATA: Atypical Angina, NAP: Non-Anginal Pain, ASY: Asymptomatic)\n",
    "4. RestingBP: resting blood pressure (mm Hg)\n",
    "5. Cholesterol: serum cholesterol (mm/dl)\n",
    "6. FastingBS: fasting blood sugar (1: if FastingBS > 120 mg/dl, 0: otherwise)\n",
    "7. RestingECG: resting electrocardiogram results (Normal: Normal, ST: having ST-T wave abnormality (T wave inversions and/or ST elevation or depression of > 0.05 mV), LVH: showing probable or definite left ventricular hypertrophy by Estes' criteria)\n",
    "8. MaxHR: maximum heart rate achieved (Numeric value between 60 and 202)\n",
    "9. ExerciseAngina: exercise-induced angina (Y: Yes, N: No)\n",
    "10. Oldpeak: oldpeak = ST (Numeric value measured in depression)\n",
    "11. ST_Slope: the slope of the peak exercise ST segment (Up: upsloping, Flat: flat, Down: downsloping)\n",
    "12. HeartDisease: output class (1: heart disease, 0: Normal)"
   ]
  },
  {
   "cell_type": "code",
   "execution_count": 3,
   "metadata": {
    "ExecuteTime": {
     "end_time": "2021-11-07T07:10:48.342470Z",
     "start_time": "2021-11-07T07:10:48.312311Z"
    }
   },
   "outputs": [
    {
     "data": {
      "text/html": [
       "<div>\n",
       "<style scoped>\n",
       "    .dataframe tbody tr th:only-of-type {\n",
       "        vertical-align: middle;\n",
       "    }\n",
       "\n",
       "    .dataframe tbody tr th {\n",
       "        vertical-align: top;\n",
       "    }\n",
       "\n",
       "    .dataframe thead th {\n",
       "        text-align: right;\n",
       "    }\n",
       "</style>\n",
       "<table border=\"1\" class=\"dataframe\">\n",
       "  <thead>\n",
       "    <tr style=\"text-align: right;\">\n",
       "      <th></th>\n",
       "      <th>Age</th>\n",
       "      <th>RestingBP</th>\n",
       "      <th>Cholesterol</th>\n",
       "      <th>FastingBS</th>\n",
       "      <th>MaxHR</th>\n",
       "      <th>Oldpeak</th>\n",
       "      <th>HeartDisease</th>\n",
       "    </tr>\n",
       "  </thead>\n",
       "  <tbody>\n",
       "    <tr>\n",
       "      <th>count</th>\n",
       "      <td>918.000000</td>\n",
       "      <td>918.000000</td>\n",
       "      <td>918.000000</td>\n",
       "      <td>918.000000</td>\n",
       "      <td>918.000000</td>\n",
       "      <td>918.000000</td>\n",
       "      <td>918.000000</td>\n",
       "    </tr>\n",
       "    <tr>\n",
       "      <th>mean</th>\n",
       "      <td>53.510893</td>\n",
       "      <td>132.396514</td>\n",
       "      <td>198.799564</td>\n",
       "      <td>0.233115</td>\n",
       "      <td>136.809368</td>\n",
       "      <td>0.887364</td>\n",
       "      <td>0.553377</td>\n",
       "    </tr>\n",
       "    <tr>\n",
       "      <th>std</th>\n",
       "      <td>9.432617</td>\n",
       "      <td>18.514154</td>\n",
       "      <td>109.384145</td>\n",
       "      <td>0.423046</td>\n",
       "      <td>25.460334</td>\n",
       "      <td>1.066570</td>\n",
       "      <td>0.497414</td>\n",
       "    </tr>\n",
       "    <tr>\n",
       "      <th>min</th>\n",
       "      <td>28.000000</td>\n",
       "      <td>0.000000</td>\n",
       "      <td>0.000000</td>\n",
       "      <td>0.000000</td>\n",
       "      <td>60.000000</td>\n",
       "      <td>-2.600000</td>\n",
       "      <td>0.000000</td>\n",
       "    </tr>\n",
       "    <tr>\n",
       "      <th>25%</th>\n",
       "      <td>47.000000</td>\n",
       "      <td>120.000000</td>\n",
       "      <td>173.250000</td>\n",
       "      <td>0.000000</td>\n",
       "      <td>120.000000</td>\n",
       "      <td>0.000000</td>\n",
       "      <td>0.000000</td>\n",
       "    </tr>\n",
       "    <tr>\n",
       "      <th>50%</th>\n",
       "      <td>54.000000</td>\n",
       "      <td>130.000000</td>\n",
       "      <td>223.000000</td>\n",
       "      <td>0.000000</td>\n",
       "      <td>138.000000</td>\n",
       "      <td>0.600000</td>\n",
       "      <td>1.000000</td>\n",
       "    </tr>\n",
       "    <tr>\n",
       "      <th>75%</th>\n",
       "      <td>60.000000</td>\n",
       "      <td>140.000000</td>\n",
       "      <td>267.000000</td>\n",
       "      <td>0.000000</td>\n",
       "      <td>156.000000</td>\n",
       "      <td>1.500000</td>\n",
       "      <td>1.000000</td>\n",
       "    </tr>\n",
       "    <tr>\n",
       "      <th>max</th>\n",
       "      <td>77.000000</td>\n",
       "      <td>200.000000</td>\n",
       "      <td>603.000000</td>\n",
       "      <td>1.000000</td>\n",
       "      <td>202.000000</td>\n",
       "      <td>6.200000</td>\n",
       "      <td>1.000000</td>\n",
       "    </tr>\n",
       "  </tbody>\n",
       "</table>\n",
       "</div>"
      ],
      "text/plain": [
       "              Age   RestingBP  Cholesterol   FastingBS       MaxHR  \\\n",
       "count  918.000000  918.000000   918.000000  918.000000  918.000000   \n",
       "mean    53.510893  132.396514   198.799564    0.233115  136.809368   \n",
       "std      9.432617   18.514154   109.384145    0.423046   25.460334   \n",
       "min     28.000000    0.000000     0.000000    0.000000   60.000000   \n",
       "25%     47.000000  120.000000   173.250000    0.000000  120.000000   \n",
       "50%     54.000000  130.000000   223.000000    0.000000  138.000000   \n",
       "75%     60.000000  140.000000   267.000000    0.000000  156.000000   \n",
       "max     77.000000  200.000000   603.000000    1.000000  202.000000   \n",
       "\n",
       "          Oldpeak  HeartDisease  \n",
       "count  918.000000    918.000000  \n",
       "mean     0.887364      0.553377  \n",
       "std      1.066570      0.497414  \n",
       "min     -2.600000      0.000000  \n",
       "25%      0.000000      0.000000  \n",
       "50%      0.600000      1.000000  \n",
       "75%      1.500000      1.000000  \n",
       "max      6.200000      1.000000  "
      ]
     },
     "execution_count": 3,
     "metadata": {},
     "output_type": "execute_result"
    }
   ],
   "source": [
    "df.describe()"
   ]
  },
  {
   "cell_type": "code",
   "execution_count": 4,
   "metadata": {
    "ExecuteTime": {
     "end_time": "2021-11-07T07:10:48.349205Z",
     "start_time": "2021-11-07T07:10:48.344220Z"
    }
   },
   "outputs": [
    {
     "data": {
      "text/plain": [
       "M    725\n",
       "F    193\n",
       "Name: Sex, dtype: int64"
      ]
     },
     "execution_count": 4,
     "metadata": {},
     "output_type": "execute_result"
    }
   ],
   "source": [
    "df['Sex'].value_counts()"
   ]
  },
  {
   "cell_type": "code",
   "execution_count": 5,
   "metadata": {
    "ExecuteTime": {
     "end_time": "2021-11-07T07:10:48.356008Z",
     "start_time": "2021-11-07T07:10:48.351015Z"
    }
   },
   "outputs": [
    {
     "data": {
      "text/plain": [
       "ASY    496\n",
       "NAP    203\n",
       "ATA    173\n",
       "TA      46\n",
       "Name: ChestPainType, dtype: int64"
      ]
     },
     "execution_count": 5,
     "metadata": {},
     "output_type": "execute_result"
    }
   ],
   "source": [
    "df['ChestPainType'].value_counts()"
   ]
  },
  {
   "cell_type": "code",
   "execution_count": 6,
   "metadata": {
    "ExecuteTime": {
     "end_time": "2021-11-07T07:10:48.364107Z",
     "start_time": "2021-11-07T07:10:48.357795Z"
    }
   },
   "outputs": [
    {
     "data": {
      "text/plain": [
       "Normal    552\n",
       "LVH       188\n",
       "ST        178\n",
       "Name: RestingECG, dtype: int64"
      ]
     },
     "execution_count": 6,
     "metadata": {},
     "output_type": "execute_result"
    }
   ],
   "source": [
    "df['RestingECG'].value_counts()"
   ]
  },
  {
   "cell_type": "code",
   "execution_count": 7,
   "metadata": {
    "ExecuteTime": {
     "end_time": "2021-11-07T07:10:48.376298Z",
     "start_time": "2021-11-07T07:10:48.369460Z"
    }
   },
   "outputs": [
    {
     "data": {
      "text/plain": [
       "N    547\n",
       "Y    371\n",
       "Name: ExerciseAngina, dtype: int64"
      ]
     },
     "execution_count": 7,
     "metadata": {},
     "output_type": "execute_result"
    }
   ],
   "source": [
    "df['ExerciseAngina'].value_counts()"
   ]
  },
  {
   "cell_type": "code",
   "execution_count": 8,
   "metadata": {
    "ExecuteTime": {
     "end_time": "2021-11-07T07:10:48.387360Z",
     "start_time": "2021-11-07T07:10:48.380621Z"
    }
   },
   "outputs": [
    {
     "data": {
      "text/plain": [
       "Flat    460\n",
       "Up      395\n",
       "Down     63\n",
       "Name: ST_Slope, dtype: int64"
      ]
     },
     "execution_count": 8,
     "metadata": {},
     "output_type": "execute_result"
    }
   ],
   "source": [
    "df['ST_Slope'].value_counts()"
   ]
  },
  {
   "cell_type": "code",
   "execution_count": 9,
   "metadata": {
    "ExecuteTime": {
     "end_time": "2021-11-07T07:10:48.400037Z",
     "start_time": "2021-11-07T07:10:48.390263Z"
    }
   },
   "outputs": [],
   "source": [
    "# Create functions to easily visualize correlation as well as general \n",
    "# data distribution and outliers.\n",
    "\n",
    "def corr_heatmap(df, digits=3, cmap='coolwarm'):\n",
    "    \"\"\"\n",
    "    Creates a correlation heatmap to easily visualize multicollinearity\n",
    "    that might be present in the dataframe.\n",
    "\n",
    "    Args:\n",
    "        df (DataFrame) : DataFrame with features to check multicollinearity on.\n",
    "        digits (int) : Number of decimal places to display\n",
    "        cmap (str) : Colormap to display correlation range.\n",
    "\n",
    "    Returns:\n",
    "        fig : Matplotlib Figure\n",
    "        ax : Matplotlib Axis\n",
    "    \"\"\"\n",
    "    # Create correlation matrix from dataframe\n",
    "    correl = df.corr().round(digits)\n",
    "    correl\n",
    "\n",
    "    # Create mask for upper triangle of matrix\n",
    "    mask = np.zeros_like(correl)\n",
    "    mask[np.triu_indices_from(mask)] = True\n",
    "\n",
    "    #Create heatmap correlation matrix\n",
    "    fig, ax = plt.subplots(figsize=((len(df.columns)),(len(df.columns))))\n",
    "    sns.heatmap(correl, annot=True, ax=ax, cmap=cmap, vmin=-1, vmax=1,\\\n",
    "                mask=mask);\n",
    "    return fig, ax\n",
    "\n",
    "\n",
    "\n",
    "def visual_eda(df, target, col):\n",
    "    \"\"\"\n",
    "    Plots a histogram + KDE, boxplot, and scatter plot with linear regression \n",
    "    line of the specified column. Use to visualize shape of data, outliers, \n",
    "    and check column's correlation with target variable.\n",
    "\n",
    "    Args:\n",
    "        df (DataFrame) : DataFrame containing column to plot\n",
    "        target (str) : Name of target variable.\n",
    "        col (str) : Name of the column to plot.\n",
    "\n",
    "    Returns:\n",
    "        fig : Matplotlib Figure\n",
    "        gs : Matplotlib GridSpec\n",
    "    \"\"\"\n",
    "    # Create copy variables of df and col\n",
    "    data = df[col].copy()\n",
    "    name = col\n",
    "\n",
    "    # Calc mean and mean\n",
    "    median = data.median().round(2)\n",
    "    mean = data.mean().round(2)\n",
    "    \n",
    "    \n",
    "    # Create gridspec for plots\n",
    "    fig = plt.figure(figsize=(11, 6))\n",
    "    gs = GridSpec(nrows=2, ncols=2)\n",
    "\n",
    "    ax0 = fig.add_subplot(gs[0, 0])\n",
    "    ax1 = fig.add_subplot(gs[1, 0])\n",
    "    ax2 = fig.add_subplot(gs[:, 1])\n",
    "\n",
    "    # Plot distribution \n",
    "    sns.histplot(data,alpha=0.5,stat='density',ax=ax0)\n",
    "    sns.kdeplot(data,color='green',label='KDE',ax=ax0)\n",
    "    ax0.set(ylabel='Density',title=name)\n",
    "    ax0.set_title(F\"Distribution of {name}\")\n",
    "    ax0.axvline(median,label=f'median={median:,}',color='black')\n",
    "    ax0.axvline(mean,label=f'mean={mean:,}',color='black',ls=':')\n",
    "    ax0.legend()\n",
    "\n",
    "    # Plot Boxplot\n",
    "    sns.boxplot(data,x=col,ax=ax1)\n",
    "    ax1.set_title(F\"Box Plot of {name}\")\n",
    "\n",
    "    # Plot Scatterplot to illustrate linearity\n",
    "    sns.regplot(data=df, x=col, y=target, line_kws={\"color\": \"red\"}, ax=ax2)\n",
    "    ax2.set_title(F\"Scatter Plot of {name}\")\n",
    "\n",
    "    # Tweak Layout & Display\n",
    "    fig.tight_layout()\n",
    "   \n",
    "    return fig, gs"
   ]
  },
  {
   "cell_type": "code",
   "execution_count": 10,
   "metadata": {
    "ExecuteTime": {
     "end_time": "2021-11-07T07:10:48.409333Z",
     "start_time": "2021-11-07T07:10:48.402801Z"
    }
   },
   "outputs": [
    {
     "data": {
      "text/plain": [
       "['Sex', 'ChestPainType', 'RestingECG', 'ExerciseAngina', 'ST_Slope']"
      ]
     },
     "execution_count": 10,
     "metadata": {},
     "output_type": "execute_result"
    }
   ],
   "source": [
    "cat_cols = list(df.select_dtypes('O').columns)\n",
    "cat_cols"
   ]
  },
  {
   "cell_type": "code",
   "execution_count": 11,
   "metadata": {
    "ExecuteTime": {
     "end_time": "2021-11-07T07:10:48.416903Z",
     "start_time": "2021-11-07T07:10:48.411410Z"
    }
   },
   "outputs": [
    {
     "data": {
      "text/plain": [
       "['Age',\n",
       " 'RestingBP',\n",
       " 'Cholesterol',\n",
       " 'FastingBS',\n",
       " 'MaxHR',\n",
       " 'Oldpeak',\n",
       " 'HeartDisease']"
      ]
     },
     "execution_count": 11,
     "metadata": {},
     "output_type": "execute_result"
    }
   ],
   "source": [
    "## can do the same for numeric\n",
    "num_cols =list(df.select_dtypes('number').columns)\n",
    "num_cols"
   ]
  },
  {
   "cell_type": "code",
   "execution_count": 12,
   "metadata": {
    "ExecuteTime": {
     "end_time": "2021-11-07T07:10:48.435213Z",
     "start_time": "2021-11-07T07:10:48.418864Z"
    }
   },
   "outputs": [
    {
     "data": {
      "text/plain": [
       "M    725\n",
       "F    193\n",
       "Name: Sex, dtype: int64"
      ]
     },
     "metadata": {},
     "output_type": "display_data"
    },
    {
     "name": "stdout",
     "output_type": "stream",
     "text": [
      "\n"
     ]
    },
    {
     "data": {
      "text/plain": [
       "ASY    496\n",
       "NAP    203\n",
       "ATA    173\n",
       "TA      46\n",
       "Name: ChestPainType, dtype: int64"
      ]
     },
     "metadata": {},
     "output_type": "display_data"
    },
    {
     "name": "stdout",
     "output_type": "stream",
     "text": [
      "\n"
     ]
    },
    {
     "data": {
      "text/plain": [
       "Normal    552\n",
       "LVH       188\n",
       "ST        178\n",
       "Name: RestingECG, dtype: int64"
      ]
     },
     "metadata": {},
     "output_type": "display_data"
    },
    {
     "name": "stdout",
     "output_type": "stream",
     "text": [
      "\n"
     ]
    },
    {
     "data": {
      "text/plain": [
       "N    547\n",
       "Y    371\n",
       "Name: ExerciseAngina, dtype: int64"
      ]
     },
     "metadata": {},
     "output_type": "display_data"
    },
    {
     "name": "stdout",
     "output_type": "stream",
     "text": [
      "\n"
     ]
    },
    {
     "data": {
      "text/plain": [
       "Flat    460\n",
       "Up      395\n",
       "Down     63\n",
       "Name: ST_Slope, dtype: int64"
      ]
     },
     "metadata": {},
     "output_type": "display_data"
    },
    {
     "name": "stdout",
     "output_type": "stream",
     "text": [
      "\n"
     ]
    }
   ],
   "source": [
    "## Inspect the Value Counts for Each Str Col\n",
    "for col in cat_cols:\n",
    "    display(df[col].value_counts(dropna=False))\n",
    "    print()"
   ]
  },
  {
   "cell_type": "code",
   "execution_count": 13,
   "metadata": {
    "ExecuteTime": {
     "end_time": "2021-11-07T07:10:53.484681Z",
     "start_time": "2021-11-07T07:10:48.437208Z"
    },
    "scrolled": false
   },
   "outputs": [
    {
     "data": {
      "image/png": "[encoded data removed]",
      "text/plain": [
       "<Figure size 792x432 with 3 Axes>"
      ]
     },
     "metadata": {
      "needs_background": "light"
     },
     "output_type": "display_data"
    },
    {
     "data": {
      "image/png": "[encoded data removed]",
      "text/plain": [
       "<Figure size 792x432 with 3 Axes>"
      ]
     },
     "metadata": {
      "needs_background": "light"
     },
     "output_type": "display_data"
    },
    {
     "data": {
      "image/png": "[encoded data removed]",
      "text/plain": [
       "<Figure size 792x432 with 3 Axes>"
      ]
     },
     "metadata": {
      "needs_background": "light"
     },
     "output_type": "display_data"
    },
    {
     "data": {
      "image/png": "[encoded data removed]",
      "text/plain": [
       "<Figure size 792x432 with 3 Axes>"
      ]
     },
     "metadata": {
      "needs_background": "light"
     },
     "output_type": "display_data"
    },
    {
     "data": {
      "image/png": "[encoded data removed]",
      "text/plain": [
       "<Figure size 792x432 with 3 Axes>"
      ]
     },
     "metadata": {
      "needs_background": "light"
     },
     "output_type": "display_data"
    },
    {
     "data": {
      "image/png": "[encoded data removed]",
      "text/plain": [
       "<Figure size 792x432 with 3 Axes>"
      ]
     },
     "metadata": {
      "needs_background": "light"
     },
     "output_type": "display_data"
    },
    {
     "data": {
      "image/png": "[encoded data removed]",
      "text/plain": [
       "<Figure size 792x432 with 3 Axes>"
      ]
     },
     "metadata": {
      "needs_background": "light"
     },
     "output_type": "display_data"
    }
   ],
   "source": [
    "## Inspect the Value Counts for Each INT Col\n",
    "for col in num_cols:\n",
    "    visual_eda(df, 'HeartDisease', col)"
   ]
  },
  {
   "cell_type": "code",
   "execution_count": 14,
   "metadata": {
    "ExecuteTime": {
     "end_time": "2021-11-07T07:10:53.494837Z",
     "start_time": "2021-11-07T07:10:53.487345Z"
    }
   },
   "outputs": [
    {
     "data": {
      "text/plain": [
       "0        1\n",
       "80       1\n",
       "92       1\n",
       "94       2\n",
       "95       6\n",
       "96       1\n",
       "98       1\n",
       "100     15\n",
       "101      1\n",
       "102      3\n",
       "104      3\n",
       "105      9\n",
       "106      3\n",
       "108      7\n",
       "110     58\n",
       "112     14\n",
       "113      1\n",
       "114      2\n",
       "115     19\n",
       "116      2\n",
       "117      1\n",
       "118     10\n",
       "120    132\n",
       "122     12\n",
       "123      2\n",
       "124     12\n",
       "125     29\n",
       "126      7\n",
       "127      1\n",
       "128     18\n",
       "129      1\n",
       "130    118\n",
       "131      4\n",
       "132     17\n",
       "133      6\n",
       "134     11\n",
       "135     20\n",
       "136     13\n",
       "137      5\n",
       "138     17\n",
       "Name: RestingBP, dtype: int64"
      ]
     },
     "execution_count": 14,
     "metadata": {},
     "output_type": "execute_result"
    }
   ],
   "source": [
    "df['RestingBP'].value_counts().sort_index().head(40)"
   ]
  },
  {
   "cell_type": "code",
   "execution_count": 15,
   "metadata": {
    "ExecuteTime": {
     "end_time": "2021-11-07T07:10:53.505605Z",
     "start_time": "2021-11-07T07:10:53.497488Z"
    }
   },
   "outputs": [
    {
     "data": {
      "text/plain": [
       "126      7\n",
       "127      1\n",
       "128     18\n",
       "129      1\n",
       "130    118\n",
       "131      4\n",
       "132     17\n",
       "133      6\n",
       "134     11\n",
       "135     20\n",
       "136     13\n",
       "137      5\n",
       "138     17\n",
       "139      5\n",
       "140    107\n",
       "141      3\n",
       "142     11\n",
       "143      2\n",
       "144      8\n",
       "145     18\n",
       "146      4\n",
       "148      2\n",
       "150     55\n",
       "152      7\n",
       "154      3\n",
       "155      8\n",
       "156      2\n",
       "158      4\n",
       "160     50\n",
       "164      1\n",
       "165      2\n",
       "170     14\n",
       "172      2\n",
       "174      1\n",
       "178      3\n",
       "180     12\n",
       "185      1\n",
       "190      2\n",
       "192      1\n",
       "200      4\n",
       "Name: RestingBP, dtype: int64"
      ]
     },
     "execution_count": 15,
     "metadata": {},
     "output_type": "execute_result"
    }
   ],
   "source": [
    "df['RestingBP'].value_counts().sort_index().tail(40)"
   ]
  },
  {
   "cell_type": "code",
   "execution_count": 16,
   "metadata": {
    "ExecuteTime": {
     "end_time": "2021-11-07T07:10:53.512405Z",
     "start_time": "2021-11-07T07:10:53.507661Z"
    }
   },
   "outputs": [],
   "source": [
    "df = df[df['RestingBP']>80]"
   ]
  },
  {
   "cell_type": "code",
   "execution_count": 17,
   "metadata": {
    "ExecuteTime": {
     "end_time": "2021-11-07T07:10:53.547050Z",
     "start_time": "2021-11-07T07:10:53.514881Z"
    }
   },
   "outputs": [
    {
     "data": {
      "text/html": [
       "<div>\n",
       "<style scoped>\n",
       "    .dataframe tbody tr th:only-of-type {\n",
       "        vertical-align: middle;\n",
       "    }\n",
       "\n",
       "    .dataframe tbody tr th {\n",
       "        vertical-align: top;\n",
       "    }\n",
       "\n",
       "    .dataframe thead th {\n",
       "        text-align: right;\n",
       "    }\n",
       "</style>\n",
       "<table border=\"1\" class=\"dataframe\">\n",
       "  <thead>\n",
       "    <tr style=\"text-align: right;\">\n",
       "      <th></th>\n",
       "      <th>Age</th>\n",
       "      <th>RestingBP</th>\n",
       "      <th>Cholesterol</th>\n",
       "      <th>FastingBS</th>\n",
       "      <th>MaxHR</th>\n",
       "      <th>Oldpeak</th>\n",
       "      <th>HeartDisease</th>\n",
       "    </tr>\n",
       "  </thead>\n",
       "  <tbody>\n",
       "    <tr>\n",
       "      <th>count</th>\n",
       "      <td>916.000000</td>\n",
       "      <td>916.000000</td>\n",
       "      <td>916.000000</td>\n",
       "      <td>916.000000</td>\n",
       "      <td>916.000000</td>\n",
       "      <td>916.000000</td>\n",
       "      <td>916.000000</td>\n",
       "    </tr>\n",
       "    <tr>\n",
       "      <th>mean</th>\n",
       "      <td>53.509825</td>\n",
       "      <td>132.598253</td>\n",
       "      <td>199.233624</td>\n",
       "      <td>0.233624</td>\n",
       "      <td>136.784934</td>\n",
       "      <td>0.885480</td>\n",
       "      <td>0.553493</td>\n",
       "    </tr>\n",
       "    <tr>\n",
       "      <th>std</th>\n",
       "      <td>9.442776</td>\n",
       "      <td>17.925534</td>\n",
       "      <td>109.107607</td>\n",
       "      <td>0.423367</td>\n",
       "      <td>25.480661</td>\n",
       "      <td>1.066908</td>\n",
       "      <td>0.497402</td>\n",
       "    </tr>\n",
       "    <tr>\n",
       "      <th>min</th>\n",
       "      <td>28.000000</td>\n",
       "      <td>92.000000</td>\n",
       "      <td>0.000000</td>\n",
       "      <td>0.000000</td>\n",
       "      <td>60.000000</td>\n",
       "      <td>-2.600000</td>\n",
       "      <td>0.000000</td>\n",
       "    </tr>\n",
       "    <tr>\n",
       "      <th>25%</th>\n",
       "      <td>47.000000</td>\n",
       "      <td>120.000000</td>\n",
       "      <td>174.750000</td>\n",
       "      <td>0.000000</td>\n",
       "      <td>120.000000</td>\n",
       "      <td>0.000000</td>\n",
       "      <td>0.000000</td>\n",
       "    </tr>\n",
       "    <tr>\n",
       "      <th>50%</th>\n",
       "      <td>54.000000</td>\n",
       "      <td>130.000000</td>\n",
       "      <td>223.000000</td>\n",
       "      <td>0.000000</td>\n",
       "      <td>138.000000</td>\n",
       "      <td>0.550000</td>\n",
       "      <td>1.000000</td>\n",
       "    </tr>\n",
       "    <tr>\n",
       "      <th>75%</th>\n",
       "      <td>60.000000</td>\n",
       "      <td>140.000000</td>\n",
       "      <td>267.000000</td>\n",
       "      <td>0.000000</td>\n",
       "      <td>156.000000</td>\n",
       "      <td>1.500000</td>\n",
       "      <td>1.000000</td>\n",
       "    </tr>\n",
       "    <tr>\n",
       "      <th>max</th>\n",
       "      <td>77.000000</td>\n",
       "      <td>200.000000</td>\n",
       "      <td>603.000000</td>\n",
       "      <td>1.000000</td>\n",
       "      <td>202.000000</td>\n",
       "      <td>6.200000</td>\n",
       "      <td>1.000000</td>\n",
       "    </tr>\n",
       "  </tbody>\n",
       "</table>\n",
       "</div>"
      ],
      "text/plain": [
       "              Age   RestingBP  Cholesterol   FastingBS       MaxHR  \\\n",
       "count  916.000000  916.000000   916.000000  916.000000  916.000000   \n",
       "mean    53.509825  132.598253   199.233624    0.233624  136.784934   \n",
       "std      9.442776   17.925534   109.107607    0.423367   25.480661   \n",
       "min     28.000000   92.000000     0.000000    0.000000   60.000000   \n",
       "25%     47.000000  120.000000   174.750000    0.000000  120.000000   \n",
       "50%     54.000000  130.000000   223.000000    0.000000  138.000000   \n",
       "75%     60.000000  140.000000   267.000000    0.000000  156.000000   \n",
       "max     77.000000  200.000000   603.000000    1.000000  202.000000   \n",
       "\n",
       "          Oldpeak  HeartDisease  \n",
       "count  916.000000    916.000000  \n",
       "mean     0.885480      0.553493  \n",
       "std      1.066908      0.497402  \n",
       "min     -2.600000      0.000000  \n",
       "25%      0.000000      0.000000  \n",
       "50%      0.550000      1.000000  \n",
       "75%      1.500000      1.000000  \n",
       "max      6.200000      1.000000  "
      ]
     },
     "execution_count": 17,
     "metadata": {},
     "output_type": "execute_result"
    }
   ],
   "source": [
    "df.describe()"
   ]
  },
  {
   "cell_type": "code",
   "execution_count": 18,
   "metadata": {
    "ExecuteTime": {
     "end_time": "2021-11-07T07:10:53.571915Z",
     "start_time": "2021-11-07T07:10:53.552194Z"
    }
   },
   "outputs": [
    {
     "data": {
      "text/plain": [
       "0      170\n",
       "85       1\n",
       "100      2\n",
       "110      1\n",
       "113      1\n",
       "117      1\n",
       "123      1\n",
       "126      2\n",
       "129      1\n",
       "131      1\n",
       "132      1\n",
       "139      2\n",
       "141      1\n",
       "142      1\n",
       "147      2\n",
       "149      2\n",
       "152      1\n",
       "153      1\n",
       "156      1\n",
       "157      1\n",
       "159      1\n",
       "160      6\n",
       "161      2\n",
       "163      2\n",
       "164      2\n",
       "165      1\n",
       "166      4\n",
       "167      3\n",
       "168      2\n",
       "169      2\n",
       "170      2\n",
       "171      3\n",
       "172      2\n",
       "173      2\n",
       "174      1\n",
       "175      4\n",
       "176      1\n",
       "177      6\n",
       "178      1\n",
       "179      2\n",
       "Name: Cholesterol, dtype: int64"
      ]
     },
     "execution_count": 18,
     "metadata": {},
     "output_type": "execute_result"
    }
   ],
   "source": [
    "df['Cholesterol'].value_counts().sort_index().head(40)"
   ]
  },
  {
   "cell_type": "code",
   "execution_count": 19,
   "metadata": {
    "ExecuteTime": {
     "end_time": "2021-11-07T07:10:53.623542Z",
     "start_time": "2021-11-07T07:10:53.578297Z"
    }
   },
   "outputs": [],
   "source": [
    "# df['Cholesterol'] = df['Cholesterol'].replace(0, np.nan)"
   ]
  },
  {
   "cell_type": "code",
   "execution_count": 20,
   "metadata": {
    "ExecuteTime": {
     "end_time": "2021-11-07T07:10:53.635946Z",
     "start_time": "2021-11-07T07:10:53.630849Z"
    }
   },
   "outputs": [],
   "source": [
    "# df['Cholesterol'].value_counts().sort_index().head(40)"
   ]
  },
  {
   "cell_type": "code",
   "execution_count": 21,
   "metadata": {
    "ExecuteTime": {
     "end_time": "2021-11-07T07:10:53.646188Z",
     "start_time": "2021-11-07T07:10:53.640473Z"
    }
   },
   "outputs": [],
   "source": [
    "# df['Cholesterol'].value_counts().sort_index()"
   ]
  },
  {
   "cell_type": "code",
   "execution_count": 22,
   "metadata": {
    "ExecuteTime": {
     "end_time": "2021-11-07T07:10:53.663652Z",
     "start_time": "2021-11-07T07:10:53.660594Z"
    }
   },
   "outputs": [],
   "source": [
    "# df['Cholesterol'].isnull().value_counts()"
   ]
  },
  {
   "cell_type": "code",
   "execution_count": 23,
   "metadata": {
    "ExecuteTime": {
     "end_time": "2021-11-07T07:10:53.673153Z",
     "start_time": "2021-11-07T07:10:53.670743Z"
    }
   },
   "outputs": [],
   "source": [
    "# df['Cholesterol'].describe()"
   ]
  },
  {
   "cell_type": "code",
   "execution_count": 24,
   "metadata": {
    "ExecuteTime": {
     "end_time": "2021-11-07T07:10:53.679727Z",
     "start_time": "2021-11-07T07:10:53.676127Z"
    }
   },
   "outputs": [],
   "source": [
    "# df['Cholesterol']=df['Cholesterol'].fillna(237)"
   ]
  },
  {
   "cell_type": "code",
   "execution_count": 25,
   "metadata": {
    "ExecuteTime": {
     "end_time": "2021-11-07T07:10:53.690838Z",
     "start_time": "2021-11-07T07:10:53.682278Z"
    }
   },
   "outputs": [
    {
     "data": {
      "text/plain": [
       "False    916\n",
       "Name: Cholesterol, dtype: int64"
      ]
     },
     "execution_count": 25,
     "metadata": {},
     "output_type": "execute_result"
    }
   ],
   "source": [
    "df['Cholesterol'].isnull().value_counts()"
   ]
  },
  {
   "cell_type": "code",
   "execution_count": 26,
   "metadata": {
    "ExecuteTime": {
     "end_time": "2021-11-07T07:10:53.701917Z",
     "start_time": "2021-11-07T07:10:53.693647Z"
    }
   },
   "outputs": [
    {
     "data": {
      "text/plain": [
       "60      1\n",
       "63      1\n",
       "67      1\n",
       "69      1\n",
       "70      1\n",
       "71      1\n",
       "72      2\n",
       "73      1\n",
       "77      1\n",
       "78      1\n",
       "80      2\n",
       "82      3\n",
       "83      1\n",
       "84      3\n",
       "86      4\n",
       "87      1\n",
       "88      2\n",
       "90      3\n",
       "91      1\n",
       "92      6\n",
       "93      2\n",
       "94      4\n",
       "95      2\n",
       "96      7\n",
       "97      3\n",
       "98      9\n",
       "99      7\n",
       "100    14\n",
       "102     4\n",
       "103     4\n",
       "104     2\n",
       "105    11\n",
       "106     5\n",
       "107     1\n",
       "108     8\n",
       "109     5\n",
       "110    23\n",
       "111     5\n",
       "112    13\n",
       "113     5\n",
       "Name: MaxHR, dtype: int64"
      ]
     },
     "execution_count": 26,
     "metadata": {},
     "output_type": "execute_result"
    }
   ],
   "source": [
    "df['MaxHR'].value_counts().sort_index().head(40)"
   ]
  },
  {
   "cell_type": "code",
   "execution_count": 27,
   "metadata": {
    "ExecuteTime": {
     "end_time": "2021-11-07T07:10:53.714797Z",
     "start_time": "2021-11-07T07:10:53.705085Z"
    }
   },
   "outputs": [
    {
     "data": {
      "text/plain": [
       "-2.6      1\n",
       "-2.0      1\n",
       "-1.5      1\n",
       "-1.1      1\n",
       "-1.0      2\n",
       "-0.9      1\n",
       "-0.8      1\n",
       "-0.7      1\n",
       "-0.5      2\n",
       "-0.1      2\n",
       " 0.0    368\n",
       " 0.1     14\n",
       " 0.2     22\n",
       " 0.3     11\n",
       " 0.4     11\n",
       " 0.5     19\n",
       " 0.6     14\n",
       " 0.7      7\n",
       " 0.8     16\n",
       " 0.9      4\n",
       " 1.0     86\n",
       " 1.1      7\n",
       " 1.2     26\n",
       " 1.3      7\n",
       " 1.4     18\n",
       " 1.5     52\n",
       " 1.6     16\n",
       " 1.7      6\n",
       " 1.8     17\n",
       " 1.9      7\n",
       " 2.0     75\n",
       " 2.1      2\n",
       " 2.2      5\n",
       " 2.3      2\n",
       " 2.4      4\n",
       " 2.5     16\n",
       " 2.6      7\n",
       " 2.8      7\n",
       " 2.9      1\n",
       " 3.0     28\n",
       "Name: Oldpeak, dtype: int64"
      ]
     },
     "execution_count": 27,
     "metadata": {},
     "output_type": "execute_result"
    }
   ],
   "source": [
    "df['Oldpeak'].value_counts().sort_index().head(40)"
   ]
  },
  {
   "cell_type": "code",
   "execution_count": 28,
   "metadata": {
    "ExecuteTime": {
     "end_time": "2021-11-07T07:10:53.729850Z",
     "start_time": "2021-11-07T07:10:53.718669Z"
    }
   },
   "outputs": [
    {
     "data": {
      "text/plain": [
       "OneHotEncoder(drop='first', sparse=False)"
      ]
     },
     "execution_count": 28,
     "metadata": {},
     "output_type": "execute_result"
    }
   ],
   "source": [
    "encoder = OneHotEncoder(sparse=False, drop='first')\n",
    "encoder"
   ]
  },
  {
   "cell_type": "code",
   "execution_count": 29,
   "metadata": {
    "ExecuteTime": {
     "end_time": "2021-11-07T07:10:53.787183Z",
     "start_time": "2021-11-07T07:10:53.732908Z"
    }
   },
   "outputs": [
    {
     "data": {
      "text/html": [
       "<div>\n",
       "<style scoped>\n",
       "    .dataframe tbody tr th:only-of-type {\n",
       "        vertical-align: middle;\n",
       "    }\n",
       "\n",
       "    .dataframe tbody tr th {\n",
       "        vertical-align: top;\n",
       "    }\n",
       "\n",
       "    .dataframe thead th {\n",
       "        text-align: right;\n",
       "    }\n",
       "</style>\n",
       "<table border=\"1\" class=\"dataframe\">\n",
       "  <thead>\n",
       "    <tr style=\"text-align: right;\">\n",
       "      <th></th>\n",
       "      <th>Sex_M</th>\n",
       "      <th>ChestPainType_ATA</th>\n",
       "      <th>ChestPainType_NAP</th>\n",
       "      <th>ChestPainType_TA</th>\n",
       "      <th>RestingECG_Normal</th>\n",
       "      <th>RestingECG_ST</th>\n",
       "      <th>ExerciseAngina_Y</th>\n",
       "      <th>ST_Slope_Flat</th>\n",
       "      <th>ST_Slope_Up</th>\n",
       "    </tr>\n",
       "  </thead>\n",
       "  <tbody>\n",
       "    <tr>\n",
       "      <th>0</th>\n",
       "      <td>1.0</td>\n",
       "      <td>1.0</td>\n",
       "      <td>0.0</td>\n",
       "      <td>0.0</td>\n",
       "      <td>1.0</td>\n",
       "      <td>0.0</td>\n",
       "      <td>0.0</td>\n",
       "      <td>0.0</td>\n",
       "      <td>1.0</td>\n",
       "    </tr>\n",
       "    <tr>\n",
       "      <th>1</th>\n",
       "      <td>0.0</td>\n",
       "      <td>0.0</td>\n",
       "      <td>1.0</td>\n",
       "      <td>0.0</td>\n",
       "      <td>1.0</td>\n",
       "      <td>0.0</td>\n",
       "      <td>0.0</td>\n",
       "      <td>1.0</td>\n",
       "      <td>0.0</td>\n",
       "    </tr>\n",
       "    <tr>\n",
       "      <th>2</th>\n",
       "      <td>1.0</td>\n",
       "      <td>1.0</td>\n",
       "      <td>0.0</td>\n",
       "      <td>0.0</td>\n",
       "      <td>0.0</td>\n",
       "      <td>1.0</td>\n",
       "      <td>0.0</td>\n",
       "      <td>0.0</td>\n",
       "      <td>1.0</td>\n",
       "    </tr>\n",
       "    <tr>\n",
       "      <th>3</th>\n",
       "      <td>0.0</td>\n",
       "      <td>0.0</td>\n",
       "      <td>0.0</td>\n",
       "      <td>0.0</td>\n",
       "      <td>1.0</td>\n",
       "      <td>0.0</td>\n",
       "      <td>1.0</td>\n",
       "      <td>1.0</td>\n",
       "      <td>0.0</td>\n",
       "    </tr>\n",
       "    <tr>\n",
       "      <th>4</th>\n",
       "      <td>1.0</td>\n",
       "      <td>0.0</td>\n",
       "      <td>1.0</td>\n",
       "      <td>0.0</td>\n",
       "      <td>1.0</td>\n",
       "      <td>0.0</td>\n",
       "      <td>0.0</td>\n",
       "      <td>0.0</td>\n",
       "      <td>1.0</td>\n",
       "    </tr>\n",
       "    <tr>\n",
       "      <th>...</th>\n",
       "      <td>...</td>\n",
       "      <td>...</td>\n",
       "      <td>...</td>\n",
       "      <td>...</td>\n",
       "      <td>...</td>\n",
       "      <td>...</td>\n",
       "      <td>...</td>\n",
       "      <td>...</td>\n",
       "      <td>...</td>\n",
       "    </tr>\n",
       "    <tr>\n",
       "      <th>913</th>\n",
       "      <td>1.0</td>\n",
       "      <td>0.0</td>\n",
       "      <td>0.0</td>\n",
       "      <td>1.0</td>\n",
       "      <td>1.0</td>\n",
       "      <td>0.0</td>\n",
       "      <td>0.0</td>\n",
       "      <td>1.0</td>\n",
       "      <td>0.0</td>\n",
       "    </tr>\n",
       "    <tr>\n",
       "      <th>914</th>\n",
       "      <td>1.0</td>\n",
       "      <td>0.0</td>\n",
       "      <td>0.0</td>\n",
       "      <td>0.0</td>\n",
       "      <td>1.0</td>\n",
       "      <td>0.0</td>\n",
       "      <td>0.0</td>\n",
       "      <td>1.0</td>\n",
       "      <td>0.0</td>\n",
       "    </tr>\n",
       "    <tr>\n",
       "      <th>915</th>\n",
       "      <td>1.0</td>\n",
       "      <td>0.0</td>\n",
       "      <td>0.0</td>\n",
       "      <td>0.0</td>\n",
       "      <td>1.0</td>\n",
       "      <td>0.0</td>\n",
       "      <td>1.0</td>\n",
       "      <td>1.0</td>\n",
       "      <td>0.0</td>\n",
       "    </tr>\n",
       "    <tr>\n",
       "      <th>916</th>\n",
       "      <td>0.0</td>\n",
       "      <td>1.0</td>\n",
       "      <td>0.0</td>\n",
       "      <td>0.0</td>\n",
       "      <td>0.0</td>\n",
       "      <td>0.0</td>\n",
       "      <td>0.0</td>\n",
       "      <td>1.0</td>\n",
       "      <td>0.0</td>\n",
       "    </tr>\n",
       "    <tr>\n",
       "      <th>917</th>\n",
       "      <td>1.0</td>\n",
       "      <td>0.0</td>\n",
       "      <td>1.0</td>\n",
       "      <td>0.0</td>\n",
       "      <td>1.0</td>\n",
       "      <td>0.0</td>\n",
       "      <td>0.0</td>\n",
       "      <td>0.0</td>\n",
       "      <td>1.0</td>\n",
       "    </tr>\n",
       "  </tbody>\n",
       "</table>\n",
       "<p>916 rows × 9 columns</p>\n",
       "</div>"
      ],
      "text/plain": [
       "     Sex_M  ChestPainType_ATA  ChestPainType_NAP  ChestPainType_TA  \\\n",
       "0      1.0                1.0                0.0               0.0   \n",
       "1      0.0                0.0                1.0               0.0   \n",
       "2      1.0                1.0                0.0               0.0   \n",
       "3      0.0                0.0                0.0               0.0   \n",
       "4      1.0                0.0                1.0               0.0   \n",
       "..     ...                ...                ...               ...   \n",
       "913    1.0                0.0                0.0               1.0   \n",
       "914    1.0                0.0                0.0               0.0   \n",
       "915    1.0                0.0                0.0               0.0   \n",
       "916    0.0                1.0                0.0               0.0   \n",
       "917    1.0                0.0                1.0               0.0   \n",
       "\n",
       "     RestingECG_Normal  RestingECG_ST  ExerciseAngina_Y  ST_Slope_Flat  \\\n",
       "0                  1.0            0.0               0.0            0.0   \n",
       "1                  1.0            0.0               0.0            1.0   \n",
       "2                  0.0            1.0               0.0            0.0   \n",
       "3                  1.0            0.0               1.0            1.0   \n",
       "4                  1.0            0.0               0.0            0.0   \n",
       "..                 ...            ...               ...            ...   \n",
       "913                1.0            0.0               0.0            1.0   \n",
       "914                1.0            0.0               0.0            1.0   \n",
       "915                1.0            0.0               1.0            1.0   \n",
       "916                0.0            0.0               0.0            1.0   \n",
       "917                1.0            0.0               0.0            0.0   \n",
       "\n",
       "     ST_Slope_Up  \n",
       "0            1.0  \n",
       "1            0.0  \n",
       "2            1.0  \n",
       "3            0.0  \n",
       "4            1.0  \n",
       "..           ...  \n",
       "913          0.0  \n",
       "914          0.0  \n",
       "915          0.0  \n",
       "916          0.0  \n",
       "917          1.0  \n",
       "\n",
       "[916 rows x 9 columns]"
      ]
     },
     "execution_count": 29,
     "metadata": {},
     "output_type": "execute_result"
    }
   ],
   "source": [
    "## make encoded vars_df\n",
    "data_ohe = encoder.fit_transform(df[cat_cols])\n",
    "df_ohe = pd.DataFrame(data_ohe,columns=encoder.get_feature_names(cat_cols),\n",
    "                     index=df.index)\n",
    "df_ohe"
   ]
  },
  {
   "cell_type": "code",
   "execution_count": 30,
   "metadata": {
    "ExecuteTime": {
     "end_time": "2021-11-07T07:10:53.886110Z",
     "start_time": "2021-11-07T07:10:53.820824Z"
    }
   },
   "outputs": [
    {
     "data": {
      "text/html": [
       "<div>\n",
       "<style scoped>\n",
       "    .dataframe tbody tr th:only-of-type {\n",
       "        vertical-align: middle;\n",
       "    }\n",
       "\n",
       "    .dataframe tbody tr th {\n",
       "        vertical-align: top;\n",
       "    }\n",
       "\n",
       "    .dataframe thead th {\n",
       "        text-align: right;\n",
       "    }\n",
       "</style>\n",
       "<table border=\"1\" class=\"dataframe\">\n",
       "  <thead>\n",
       "    <tr style=\"text-align: right;\">\n",
       "      <th></th>\n",
       "      <th>Age</th>\n",
       "      <th>RestingBP</th>\n",
       "      <th>Cholesterol</th>\n",
       "      <th>FastingBS</th>\n",
       "      <th>MaxHR</th>\n",
       "      <th>Oldpeak</th>\n",
       "      <th>HeartDisease</th>\n",
       "      <th>Sex_M</th>\n",
       "      <th>ChestPainType_ATA</th>\n",
       "      <th>ChestPainType_NAP</th>\n",
       "      <th>ChestPainType_TA</th>\n",
       "      <th>RestingECG_Normal</th>\n",
       "      <th>RestingECG_ST</th>\n",
       "      <th>ExerciseAngina_Y</th>\n",
       "      <th>ST_Slope_Flat</th>\n",
       "      <th>ST_Slope_Up</th>\n",
       "    </tr>\n",
       "  </thead>\n",
       "  <tbody>\n",
       "    <tr>\n",
       "      <th>0</th>\n",
       "      <td>40</td>\n",
       "      <td>140</td>\n",
       "      <td>289</td>\n",
       "      <td>0</td>\n",
       "      <td>172</td>\n",
       "      <td>0.0</td>\n",
       "      <td>0</td>\n",
       "      <td>1.0</td>\n",
       "      <td>1.0</td>\n",
       "      <td>0.0</td>\n",
       "      <td>0.0</td>\n",
       "      <td>1.0</td>\n",
       "      <td>0.0</td>\n",
       "      <td>0.0</td>\n",
       "      <td>0.0</td>\n",
       "      <td>1.0</td>\n",
       "    </tr>\n",
       "    <tr>\n",
       "      <th>1</th>\n",
       "      <td>49</td>\n",
       "      <td>160</td>\n",
       "      <td>180</td>\n",
       "      <td>0</td>\n",
       "      <td>156</td>\n",
       "      <td>1.0</td>\n",
       "      <td>1</td>\n",
       "      <td>0.0</td>\n",
       "      <td>0.0</td>\n",
       "      <td>1.0</td>\n",
       "      <td>0.0</td>\n",
       "      <td>1.0</td>\n",
       "      <td>0.0</td>\n",
       "      <td>0.0</td>\n",
       "      <td>1.0</td>\n",
       "      <td>0.0</td>\n",
       "    </tr>\n",
       "    <tr>\n",
       "      <th>2</th>\n",
       "      <td>37</td>\n",
       "      <td>130</td>\n",
       "      <td>283</td>\n",
       "      <td>0</td>\n",
       "      <td>98</td>\n",
       "      <td>0.0</td>\n",
       "      <td>0</td>\n",
       "      <td>1.0</td>\n",
       "      <td>1.0</td>\n",
       "      <td>0.0</td>\n",
       "      <td>0.0</td>\n",
       "      <td>0.0</td>\n",
       "      <td>1.0</td>\n",
       "      <td>0.0</td>\n",
       "      <td>0.0</td>\n",
       "      <td>1.0</td>\n",
       "    </tr>\n",
       "    <tr>\n",
       "      <th>3</th>\n",
       "      <td>48</td>\n",
       "      <td>138</td>\n",
       "      <td>214</td>\n",
       "      <td>0</td>\n",
       "      <td>108</td>\n",
       "      <td>1.5</td>\n",
       "      <td>1</td>\n",
       "      <td>0.0</td>\n",
       "      <td>0.0</td>\n",
       "      <td>0.0</td>\n",
       "      <td>0.0</td>\n",
       "      <td>1.0</td>\n",
       "      <td>0.0</td>\n",
       "      <td>1.0</td>\n",
       "      <td>1.0</td>\n",
       "      <td>0.0</td>\n",
       "    </tr>\n",
       "    <tr>\n",
       "      <th>4</th>\n",
       "      <td>54</td>\n",
       "      <td>150</td>\n",
       "      <td>195</td>\n",
       "      <td>0</td>\n",
       "      <td>122</td>\n",
       "      <td>0.0</td>\n",
       "      <td>0</td>\n",
       "      <td>1.0</td>\n",
       "      <td>0.0</td>\n",
       "      <td>1.0</td>\n",
       "      <td>0.0</td>\n",
       "      <td>1.0</td>\n",
       "      <td>0.0</td>\n",
       "      <td>0.0</td>\n",
       "      <td>0.0</td>\n",
       "      <td>1.0</td>\n",
       "    </tr>\n",
       "    <tr>\n",
       "      <th>...</th>\n",
       "      <td>...</td>\n",
       "      <td>...</td>\n",
       "      <td>...</td>\n",
       "      <td>...</td>\n",
       "      <td>...</td>\n",
       "      <td>...</td>\n",
       "      <td>...</td>\n",
       "      <td>...</td>\n",
       "      <td>...</td>\n",
       "      <td>...</td>\n",
       "      <td>...</td>\n",
       "      <td>...</td>\n",
       "      <td>...</td>\n",
       "      <td>...</td>\n",
       "      <td>...</td>\n",
       "      <td>...</td>\n",
       "    </tr>\n",
       "    <tr>\n",
       "      <th>913</th>\n",
       "      <td>45</td>\n",
       "      <td>110</td>\n",
       "      <td>264</td>\n",
       "      <td>0</td>\n",
       "      <td>132</td>\n",
       "      <td>1.2</td>\n",
       "      <td>1</td>\n",
       "      <td>1.0</td>\n",
       "      <td>0.0</td>\n",
       "      <td>0.0</td>\n",
       "      <td>1.0</td>\n",
       "      <td>1.0</td>\n",
       "      <td>0.0</td>\n",
       "      <td>0.0</td>\n",
       "      <td>1.0</td>\n",
       "      <td>0.0</td>\n",
       "    </tr>\n",
       "    <tr>\n",
       "      <th>914</th>\n",
       "      <td>68</td>\n",
       "      <td>144</td>\n",
       "      <td>193</td>\n",
       "      <td>1</td>\n",
       "      <td>141</td>\n",
       "      <td>3.4</td>\n",
       "      <td>1</td>\n",
       "      <td>1.0</td>\n",
       "      <td>0.0</td>\n",
       "      <td>0.0</td>\n",
       "      <td>0.0</td>\n",
       "      <td>1.0</td>\n",
       "      <td>0.0</td>\n",
       "      <td>0.0</td>\n",
       "      <td>1.0</td>\n",
       "      <td>0.0</td>\n",
       "    </tr>\n",
       "    <tr>\n",
       "      <th>915</th>\n",
       "      <td>57</td>\n",
       "      <td>130</td>\n",
       "      <td>131</td>\n",
       "      <td>0</td>\n",
       "      <td>115</td>\n",
       "      <td>1.2</td>\n",
       "      <td>1</td>\n",
       "      <td>1.0</td>\n",
       "      <td>0.0</td>\n",
       "      <td>0.0</td>\n",
       "      <td>0.0</td>\n",
       "      <td>1.0</td>\n",
       "      <td>0.0</td>\n",
       "      <td>1.0</td>\n",
       "      <td>1.0</td>\n",
       "      <td>0.0</td>\n",
       "    </tr>\n",
       "    <tr>\n",
       "      <th>916</th>\n",
       "      <td>57</td>\n",
       "      <td>130</td>\n",
       "      <td>236</td>\n",
       "      <td>0</td>\n",
       "      <td>174</td>\n",
       "      <td>0.0</td>\n",
       "      <td>1</td>\n",
       "      <td>0.0</td>\n",
       "      <td>1.0</td>\n",
       "      <td>0.0</td>\n",
       "      <td>0.0</td>\n",
       "      <td>0.0</td>\n",
       "      <td>0.0</td>\n",
       "      <td>0.0</td>\n",
       "      <td>1.0</td>\n",
       "      <td>0.0</td>\n",
       "    </tr>\n",
       "    <tr>\n",
       "      <th>917</th>\n",
       "      <td>38</td>\n",
       "      <td>138</td>\n",
       "      <td>175</td>\n",
       "      <td>0</td>\n",
       "      <td>173</td>\n",
       "      <td>0.0</td>\n",
       "      <td>0</td>\n",
       "      <td>1.0</td>\n",
       "      <td>0.0</td>\n",
       "      <td>1.0</td>\n",
       "      <td>0.0</td>\n",
       "      <td>1.0</td>\n",
       "      <td>0.0</td>\n",
       "      <td>0.0</td>\n",
       "      <td>0.0</td>\n",
       "      <td>1.0</td>\n",
       "    </tr>\n",
       "  </tbody>\n",
       "</table>\n",
       "<p>916 rows × 16 columns</p>\n",
       "</div>"
      ],
      "text/plain": [
       "     Age  RestingBP  Cholesterol  FastingBS  MaxHR  Oldpeak  HeartDisease  \\\n",
       "0     40        140          289          0    172      0.0             0   \n",
       "1     49        160          180          0    156      1.0             1   \n",
       "2     37        130          283          0     98      0.0             0   \n",
       "3     48        138          214          0    108      1.5             1   \n",
       "4     54        150          195          0    122      0.0             0   \n",
       "..   ...        ...          ...        ...    ...      ...           ...   \n",
       "913   45        110          264          0    132      1.2             1   \n",
       "914   68        144          193          1    141      3.4             1   \n",
       "915   57        130          131          0    115      1.2             1   \n",
       "916   57        130          236          0    174      0.0             1   \n",
       "917   38        138          175          0    173      0.0             0   \n",
       "\n",
       "     Sex_M  ChestPainType_ATA  ChestPainType_NAP  ChestPainType_TA  \\\n",
       "0      1.0                1.0                0.0               0.0   \n",
       "1      0.0                0.0                1.0               0.0   \n",
       "2      1.0                1.0                0.0               0.0   \n",
       "3      0.0                0.0                0.0               0.0   \n",
       "4      1.0                0.0                1.0               0.0   \n",
       "..     ...                ...                ...               ...   \n",
       "913    1.0                0.0                0.0               1.0   \n",
       "914    1.0                0.0                0.0               0.0   \n",
       "915    1.0                0.0                0.0               0.0   \n",
       "916    0.0                1.0                0.0               0.0   \n",
       "917    1.0                0.0                1.0               0.0   \n",
       "\n",
       "     RestingECG_Normal  RestingECG_ST  ExerciseAngina_Y  ST_Slope_Flat  \\\n",
       "0                  1.0            0.0               0.0            0.0   \n",
       "1                  1.0            0.0               0.0            1.0   \n",
       "2                  0.0            1.0               0.0            0.0   \n",
       "3                  1.0            0.0               1.0            1.0   \n",
       "4                  1.0            0.0               0.0            0.0   \n",
       "..                 ...            ...               ...            ...   \n",
       "913                1.0            0.0               0.0            1.0   \n",
       "914                1.0            0.0               0.0            1.0   \n",
       "915                1.0            0.0               1.0            1.0   \n",
       "916                0.0            0.0               0.0            1.0   \n",
       "917                1.0            0.0               0.0            0.0   \n",
       "\n",
       "     ST_Slope_Up  \n",
       "0            1.0  \n",
       "1            0.0  \n",
       "2            1.0  \n",
       "3            0.0  \n",
       "4            1.0  \n",
       "..           ...  \n",
       "913          0.0  \n",
       "914          0.0  \n",
       "915          0.0  \n",
       "916          0.0  \n",
       "917          1.0  \n",
       "\n",
       "[916 rows x 16 columns]"
      ]
     },
     "execution_count": 30,
     "metadata": {},
     "output_type": "execute_result"
    }
   ],
   "source": [
    "df_model = pd.concat([df.drop(cat_cols,axis=1),df_ohe],axis=1)\n",
    "df_model"
   ]
  },
  {
   "cell_type": "code",
   "execution_count": 31,
   "metadata": {
    "ExecuteTime": {
     "end_time": "2021-11-07T07:10:53.900581Z",
     "start_time": "2021-11-07T07:10:53.892491Z"
    }
   },
   "outputs": [
    {
     "data": {
      "text/plain": [
       "(916, 16)"
      ]
     },
     "execution_count": 31,
     "metadata": {},
     "output_type": "execute_result"
    }
   ],
   "source": [
    "df_model.shape"
   ]
  },
  {
   "cell_type": "code",
   "execution_count": 32,
   "metadata": {
    "ExecuteTime": {
     "end_time": "2021-11-07T07:10:55.562088Z",
     "start_time": "2021-11-07T07:10:53.905223Z"
    }
   },
   "outputs": [
    {
     "data": {
      "image/png": "[encoded data removed]",
      "text/plain": [
       "<Figure size 1152x1152 with 2 Axes>"
      ]
     },
     "metadata": {
      "needs_background": "light"
     },
     "output_type": "display_data"
    }
   ],
   "source": [
    "corr_heatmap(df_model);"
   ]
  },
  {
   "cell_type": "code",
   "execution_count": null,
   "metadata": {},
   "outputs": [],
   "source": []
  },
  {
   "cell_type": "code",
   "execution_count": 33,
   "metadata": {
    "ExecuteTime": {
     "end_time": "2021-11-07T07:10:55.570567Z",
     "start_time": "2021-11-07T07:10:55.564232Z"
    }
   },
   "outputs": [],
   "source": [
    "def evaluate_model(model, X_train, y_train, X_test, y_test, digits=4, \n",
    "                   figsize=(10,5), params=False): \n",
    "    \"\"\"\n",
    "    Displays evaluation metrics including classification report, confusion\n",
    "    matrix, ROC-AUC curve.\n",
    "    \n",
    "    If the argument 'params' is passed, will display a table of the \n",
    "    parameters hyperparameters used in the model.\n",
    "\n",
    "    Args:\n",
    "        df (DataFrame) : DataFrame with features to check multicollinearity on.\n",
    "        model (classifier object) : Type of classificatier model to use.\n",
    "        X_train (DataFrame) : Training data with feature variables.\n",
    "        y_train (Series) : Training data with target variable.\n",
    "        X_test (DataFrame) : Testing data with feature variables.\n",
    "        y_test (Series) : Testing data with target variable.\n",
    "        digits (int) : Colormap to display correlation range. Default is 4.\n",
    "        figsize (int, int) : Figure dimensions. Default is (10,5)\n",
    "        params (bool) : Prints table of hyperparameters used in model.\n",
    "        \n",
    "    Returns:\n",
    "    \"\"\"\n",
    "        \n",
    "    # Get Predictions\n",
    "    y_hat_test = model.predict(X_test)\n",
    "    y_hat_train = model.predict(X_train)\n",
    "    \n",
    "    # Classification Report / Scores \n",
    "\n",
    "    print(\"****CLASSIFICATION REPORT - TRAINING DATA****\")\n",
    "    \n",
    "    print(metrics.classification_report(y_train,y_hat_train, digits=digits))\n",
    "    \n",
    "\n",
    "    print(\"****CLASSIFICATION REPORT - TEST DATA****\")\n",
    "    \n",
    "    print(metrics.classification_report(y_test,y_hat_test, digits=digits))\n",
    "\n",
    "    print(\"****CONFUSION MATRIX AND ROC-AUC VISUALIZATION****\")\n",
    "\n",
    "    \n",
    "    fig, axes = plt.subplots(ncols=2, \n",
    "                             figsize=figsize)\n",
    "    \n",
    "    # Confusion Matrix\n",
    "    metrics.plot_confusion_matrix(model, X_test,\n",
    "                                  y_test,normalize='true',\n",
    "                                 cmap='Purples',ax=axes[0])\n",
    "    axes[0].set_title('Confusion Matrix')\n",
    "    \n",
    "    # Plot ROC Curve\n",
    "    metrics.plot_roc_curve(model,X_test,y_test,ax=axes[1])\n",
    "\n",
    "    ax = axes[1]\n",
    "    ax.legend()\n",
    "    ax.plot([0,1],[0,1], ls='-')\n",
    "    ax.grid()\n",
    "    ax.set_title('ROC AUC Curve')\n",
    "    \n",
    "    plt.tight_layout()\n",
    "    plt.show()\n",
    "    \n",
    "    if params == True:\n",
    "        print(\"****MODEL PARAMETERS****\")\n",
    "        params = pd.DataFrame(pd.Series(model.get_params()))\n",
    "        params.columns=['parameters']\n",
    "        display(params)"
   ]
  },
  {
   "cell_type": "code",
   "execution_count": 34,
   "metadata": {
    "ExecuteTime": {
     "end_time": "2021-11-07T07:10:55.579391Z",
     "start_time": "2021-11-07T07:10:55.572402Z"
    }
   },
   "outputs": [],
   "source": [
    "y = df_model['HeartDisease']\n",
    "X = df_model.drop('HeartDisease', axis=1)"
   ]
  },
  {
   "cell_type": "code",
   "execution_count": 35,
   "metadata": {
    "ExecuteTime": {
     "end_time": "2021-11-07T07:10:55.587258Z",
     "start_time": "2021-11-07T07:10:55.582109Z"
    }
   },
   "outputs": [
    {
     "data": {
      "text/plain": [
       "0      0\n",
       "1      1\n",
       "2      0\n",
       "3      1\n",
       "4      0\n",
       "      ..\n",
       "913    1\n",
       "914    1\n",
       "915    1\n",
       "916    1\n",
       "917    0\n",
       "Name: HeartDisease, Length: 916, dtype: int64"
      ]
     },
     "execution_count": 35,
     "metadata": {},
     "output_type": "execute_result"
    }
   ],
   "source": [
    "y"
   ]
  },
  {
   "cell_type": "code",
   "execution_count": 36,
   "metadata": {
    "ExecuteTime": {
     "end_time": "2021-11-07T07:10:55.595879Z",
     "start_time": "2021-11-07T07:10:55.589922Z"
    }
   },
   "outputs": [],
   "source": [
    "X_train, X_test, y_train, y_test = train_test_split(X, y)"
   ]
  },
  {
   "cell_type": "code",
   "execution_count": 37,
   "metadata": {
    "ExecuteTime": {
     "end_time": "2021-11-07T07:10:55.614092Z",
     "start_time": "2021-11-07T07:10:55.600795Z"
    }
   },
   "outputs": [],
   "source": [
    "# Get list of column names\n",
    "cols = X_train.columns\n",
    "\n",
    "# Scale columns\n",
    "scaler = StandardScaler()\n",
    "X_train = pd.DataFrame(scaler.fit_transform(X_train), columns=cols)\n",
    "X_test = pd.DataFrame(scaler.transform(X_test), columns=cols)"
   ]
  },
  {
   "cell_type": "code",
   "execution_count": 38,
   "metadata": {
    "ExecuteTime": {
     "end_time": "2021-11-07T07:10:55.819918Z",
     "start_time": "2021-11-07T07:10:55.616676Z"
    }
   },
   "outputs": [
    {
     "data": {
      "text/plain": [
       "LogisticRegressionCV()"
      ]
     },
     "execution_count": 38,
     "metadata": {},
     "output_type": "execute_result"
    }
   ],
   "source": [
    "lr = LogisticRegressionCV()\n",
    "lr.fit(X_train, y_train)"
   ]
  },
  {
   "cell_type": "code",
   "execution_count": 39,
   "metadata": {
    "ExecuteTime": {
     "end_time": "2021-11-07T07:10:56.411935Z",
     "start_time": "2021-11-07T07:10:55.822887Z"
    }
   },
   "outputs": [
    {
     "name": "stdout",
     "output_type": "stream",
     "text": [
      "****CLASSIFICATION REPORT - TRAINING DATA****\n",
      "              precision    recall  f1-score   support\n",
      "\n",
      "           0     0.8932    0.8203    0.8552       306\n",
      "           1     0.8645    0.9213    0.8920       381\n",
      "\n",
      "    accuracy                         0.8763       687\n",
      "   macro avg     0.8789    0.8708    0.8736       687\n",
      "weighted avg     0.8773    0.8763    0.8756       687\n",
      "\n",
      "****CLASSIFICATION REPORT - TEST DATA****\n",
      "              precision    recall  f1-score   support\n",
      "\n",
      "           0     0.8235    0.8155    0.8195       103\n",
      "           1     0.8504    0.8571    0.8538       126\n",
      "\n",
      "    accuracy                         0.8384       229\n",
      "   macro avg     0.8370    0.8363    0.8366       229\n",
      "weighted avg     0.8383    0.8384    0.8384       229\n",
      "\n",
      "****CONFUSION MATRIX AND ROC-AUC VISUALIZATION****\n"
     ]
    },
    {
     "data": {
      "image/png": "[encoded data removed]",
      "text/plain": [
       "<Figure size 720x360 with 3 Axes>"
      ]
     },
     "metadata": {
      "needs_background": "light"
     },
     "output_type": "display_data"
    }
   ],
   "source": [
    "evaluate_model(lr, X_train, y_train, X_test, y_test)"
   ]
  },
  {
   "cell_type": "code",
   "execution_count": 40,
   "metadata": {
    "ExecuteTime": {
     "end_time": "2021-11-07T07:11:17.716951Z",
     "start_time": "2021-11-07T07:10:56.414284Z"
    }
   },
   "outputs": [
    {
     "data": {
      "text/plain": [
       "GridSearchCV(estimator=LogisticRegression(),\n",
       "             param_grid={'C': [0.001, 0.01, 0.1, 1, 10, 100, 1000000.0,\n",
       "                               1000000000000.0],\n",
       "                         'class_weight': ['balanced'],\n",
       "                         'fit_intercept': [True, False],\n",
       "                         'penalty': ['l1', 'l2', 'elastic_net'],\n",
       "                         'solver': ['liblinear', 'newton-cg', 'lbfgs', 'sag',\n",
       "                                    'saga'],\n",
       "                         'tol': [1e-06, 1e-05, 0.0001]},\n",
       "             scoring='recall_macro')"
      ]
     },
     "execution_count": 40,
     "metadata": {},
     "output_type": "execute_result"
    }
   ],
   "source": [
    "# Create parameter grid for Logistic Regression gridsearch and fit to data.\n",
    "log_reg = LogisticRegression()\n",
    "\n",
    "params = {'C': [0.001, 0.01, 0.1, 1, 10, 100,1e6,1e12],\n",
    "          'penalty': ['l1', 'l2', 'elastic_net'],\n",
    "          'tol': [0.000001, 0.00001, 0.0001],\n",
    "          'fit_intercept': [True, False],\n",
    "          'solver':[\"liblinear\", \"newton-cg\", \"lbfgs\", \"sag\",\"saga\"],\n",
    "          'class_weight': ['balanced']}\n",
    "log_grid = GridSearchCV(log_reg, params, scoring='recall_macro')\n",
    "log_grid.fit(X_train, y_train)"
   ]
  },
  {
   "cell_type": "code",
   "execution_count": 41,
   "metadata": {
    "ExecuteTime": {
     "end_time": "2021-11-07T07:11:17.723419Z",
     "start_time": "2021-11-07T07:11:17.719486Z"
    }
   },
   "outputs": [
    {
     "data": {
      "text/plain": [
       "{'C': 1,\n",
       " 'class_weight': 'balanced',\n",
       " 'fit_intercept': False,\n",
       " 'penalty': 'l2',\n",
       " 'solver': 'liblinear',\n",
       " 'tol': 1e-06}"
      ]
     },
     "execution_count": 41,
     "metadata": {},
     "output_type": "execute_result"
    }
   ],
   "source": [
    "log_grid.best_params_"
   ]
  },
  {
   "cell_type": "code",
   "execution_count": 42,
   "metadata": {
    "ExecuteTime": {
     "end_time": "2021-11-07T07:11:18.135155Z",
     "start_time": "2021-11-07T07:11:17.727010Z"
    }
   },
   "outputs": [
    {
     "name": "stdout",
     "output_type": "stream",
     "text": [
      "****CLASSIFICATION REPORT - TRAINING DATA****\n",
      "              precision    recall  f1-score   support\n",
      "\n",
      "           0     0.8429    0.8595    0.8511       306\n",
      "           1     0.8853    0.8714    0.8783       381\n",
      "\n",
      "    accuracy                         0.8661       687\n",
      "   macro avg     0.8641    0.8654    0.8647       687\n",
      "weighted avg     0.8665    0.8661    0.8662       687\n",
      "\n",
      "****CLASSIFICATION REPORT - TEST DATA****\n",
      "              precision    recall  f1-score   support\n",
      "\n",
      "           0     0.8302    0.8544    0.8421       103\n",
      "           1     0.8780    0.8571    0.8675       126\n",
      "\n",
      "    accuracy                         0.8559       229\n",
      "   macro avg     0.8541    0.8558    0.8548       229\n",
      "weighted avg     0.8565    0.8559    0.8561       229\n",
      "\n",
      "****CONFUSION MATRIX AND ROC-AUC VISUALIZATION****\n"
     ]
    },
    {
     "data": {
      "image/png": "[encoded data removed]",
      "text/plain": [
       "<Figure size 720x360 with 3 Axes>"
      ]
     },
     "metadata": {
      "needs_background": "light"
     },
     "output_type": "display_data"
    },
    {
     "name": "stdout",
     "output_type": "stream",
     "text": [
      "****MODEL PARAMETERS****\n"
     ]
    },
    {
     "data": {
      "text/html": [
       "<div>\n",
       "<style scoped>\n",
       "    .dataframe tbody tr th:only-of-type {\n",
       "        vertical-align: middle;\n",
       "    }\n",
       "\n",
       "    .dataframe tbody tr th {\n",
       "        vertical-align: top;\n",
       "    }\n",
       "\n",
       "    .dataframe thead th {\n",
       "        text-align: right;\n",
       "    }\n",
       "</style>\n",
       "<table border=\"1\" class=\"dataframe\">\n",
       "  <thead>\n",
       "    <tr style=\"text-align: right;\">\n",
       "      <th></th>\n",
       "      <th>parameters</th>\n",
       "    </tr>\n",
       "  </thead>\n",
       "  <tbody>\n",
       "    <tr>\n",
       "      <th>C</th>\n",
       "      <td>1</td>\n",
       "    </tr>\n",
       "    <tr>\n",
       "      <th>class_weight</th>\n",
       "      <td>balanced</td>\n",
       "    </tr>\n",
       "    <tr>\n",
       "      <th>dual</th>\n",
       "      <td>False</td>\n",
       "    </tr>\n",
       "    <tr>\n",
       "      <th>fit_intercept</th>\n",
       "      <td>False</td>\n",
       "    </tr>\n",
       "    <tr>\n",
       "      <th>intercept_scaling</th>\n",
       "      <td>1</td>\n",
       "    </tr>\n",
       "    <tr>\n",
       "      <th>l1_ratio</th>\n",
       "      <td>None</td>\n",
       "    </tr>\n",
       "    <tr>\n",
       "      <th>max_iter</th>\n",
       "      <td>100</td>\n",
       "    </tr>\n",
       "    <tr>\n",
       "      <th>multi_class</th>\n",
       "      <td>auto</td>\n",
       "    </tr>\n",
       "    <tr>\n",
       "      <th>n_jobs</th>\n",
       "      <td>None</td>\n",
       "    </tr>\n",
       "    <tr>\n",
       "      <th>penalty</th>\n",
       "      <td>l2</td>\n",
       "    </tr>\n",
       "    <tr>\n",
       "      <th>random_state</th>\n",
       "      <td>None</td>\n",
       "    </tr>\n",
       "    <tr>\n",
       "      <th>solver</th>\n",
       "      <td>liblinear</td>\n",
       "    </tr>\n",
       "    <tr>\n",
       "      <th>tol</th>\n",
       "      <td>1e-06</td>\n",
       "    </tr>\n",
       "    <tr>\n",
       "      <th>verbose</th>\n",
       "      <td>0</td>\n",
       "    </tr>\n",
       "    <tr>\n",
       "      <th>warm_start</th>\n",
       "      <td>False</td>\n",
       "    </tr>\n",
       "  </tbody>\n",
       "</table>\n",
       "</div>"
      ],
      "text/plain": [
       "                  parameters\n",
       "C                          1\n",
       "class_weight        balanced\n",
       "dual                   False\n",
       "fit_intercept          False\n",
       "intercept_scaling          1\n",
       "l1_ratio                None\n",
       "max_iter                 100\n",
       "multi_class             auto\n",
       "n_jobs                  None\n",
       "penalty                   l2\n",
       "random_state            None\n",
       "solver             liblinear\n",
       "tol                    1e-06\n",
       "verbose                    0\n",
       "warm_start             False"
      ]
     },
     "metadata": {},
     "output_type": "display_data"
    }
   ],
   "source": [
    "# Evaluate best estimating model.\n",
    "evaluate_model(log_grid.best_estimator_, X_train, y_train, \\\n",
    "               X_test, y_test, params=True)"
   ]
  },
  {
   "cell_type": "code",
   "execution_count": 43,
   "metadata": {
    "ExecuteTime": {
     "end_time": "2021-11-07T07:11:37.682877Z",
     "start_time": "2021-11-07T07:11:18.137060Z"
    }
   },
   "outputs": [
    {
     "data": {
      "text/plain": [
       "GridSearchCV(estimator=LogisticRegression(),\n",
       "             param_grid={'C': [0.001, 0.01, 0.1, 1, 10, 100, 1000000.0,\n",
       "                               1000000000000.0],\n",
       "                         'class_weight': ['balanced'],\n",
       "                         'fit_intercept': [True, False],\n",
       "                         'penalty': ['l1', 'l2', 'elastic_net'],\n",
       "                         'solver': ['liblinear', 'newton-cg', 'lbfgs', 'sag',\n",
       "                                    'saga'],\n",
       "                         'tol': [1e-08, 1e-07, 1e-06]},\n",
       "             scoring='recall_macro')"
      ]
     },
     "execution_count": 43,
     "metadata": {},
     "output_type": "execute_result"
    }
   ],
   "source": [
    "# Create parameter grid for Logistic Regression gridsearch and fit to data.\n",
    "log_reg = LogisticRegression()\n",
    "\n",
    "params = {'C': [0.001, 0.01, 0.1, 1, 10, 100,1e6,1e12],\n",
    "          'penalty': ['l1', 'l2', 'elastic_net'],\n",
    "          'tol': [0.00000001, 0.0000001, 0.000001],\n",
    "          'fit_intercept': [True, False],\n",
    "          'solver':[\"liblinear\", \"newton-cg\", \"lbfgs\", \"sag\",\"saga\"],\n",
    "          'class_weight': ['balanced']}\n",
    "log_grid = GridSearchCV(log_reg, params, scoring='recall_macro')\n",
    "log_grid.fit(X_train, y_train)"
   ]
  },
  {
   "cell_type": "code",
   "execution_count": 44,
   "metadata": {
    "ExecuteTime": {
     "end_time": "2021-11-07T07:11:37.688956Z",
     "start_time": "2021-11-07T07:11:37.685001Z"
    }
   },
   "outputs": [
    {
     "data": {
      "text/plain": [
       "{'C': 1,\n",
       " 'class_weight': 'balanced',\n",
       " 'fit_intercept': False,\n",
       " 'penalty': 'l2',\n",
       " 'solver': 'liblinear',\n",
       " 'tol': 1e-08}"
      ]
     },
     "execution_count": 44,
     "metadata": {},
     "output_type": "execute_result"
    }
   ],
   "source": [
    "log_grid.best_params_"
   ]
  },
  {
   "cell_type": "code",
   "execution_count": 45,
   "metadata": {
    "ExecuteTime": {
     "end_time": "2021-11-07T07:11:38.332150Z",
     "start_time": "2021-11-07T07:11:37.694596Z"
    }
   },
   "outputs": [
    {
     "name": "stdout",
     "output_type": "stream",
     "text": [
      "****CLASSIFICATION REPORT - TRAINING DATA****\n",
      "              precision    recall  f1-score   support\n",
      "\n",
      "           0     0.8429    0.8595    0.8511       306\n",
      "           1     0.8853    0.8714    0.8783       381\n",
      "\n",
      "    accuracy                         0.8661       687\n",
      "   macro avg     0.8641    0.8654    0.8647       687\n",
      "weighted avg     0.8665    0.8661    0.8662       687\n",
      "\n",
      "****CLASSIFICATION REPORT - TEST DATA****\n",
      "              precision    recall  f1-score   support\n",
      "\n",
      "           0     0.8302    0.8544    0.8421       103\n",
      "           1     0.8780    0.8571    0.8675       126\n",
      "\n",
      "    accuracy                         0.8559       229\n",
      "   macro avg     0.8541    0.8558    0.8548       229\n",
      "weighted avg     0.8565    0.8559    0.8561       229\n",
      "\n",
      "****CONFUSION MATRIX AND ROC-AUC VISUALIZATION****\n"
     ]
    },
    {
     "data": {
      "image/png": "[encoded data removed]",
      "text/plain": [
       "<Figure size 720x360 with 3 Axes>"
      ]
     },
     "metadata": {
      "needs_background": "light"
     },
     "output_type": "display_data"
    },
    {
     "name": "stdout",
     "output_type": "stream",
     "text": [
      "****MODEL PARAMETERS****\n"
     ]
    },
    {
     "data": {
      "text/html": [
       "<div>\n",
       "<style scoped>\n",
       "    .dataframe tbody tr th:only-of-type {\n",
       "        vertical-align: middle;\n",
       "    }\n",
       "\n",
       "    .dataframe tbody tr th {\n",
       "        vertical-align: top;\n",
       "    }\n",
       "\n",
       "    .dataframe thead th {\n",
       "        text-align: right;\n",
       "    }\n",
       "</style>\n",
       "<table border=\"1\" class=\"dataframe\">\n",
       "  <thead>\n",
       "    <tr style=\"text-align: right;\">\n",
       "      <th></th>\n",
       "      <th>parameters</th>\n",
       "    </tr>\n",
       "  </thead>\n",
       "  <tbody>\n",
       "    <tr>\n",
       "      <th>C</th>\n",
       "      <td>1</td>\n",
       "    </tr>\n",
       "    <tr>\n",
       "      <th>class_weight</th>\n",
       "      <td>balanced</td>\n",
       "    </tr>\n",
       "    <tr>\n",
       "      <th>dual</th>\n",
       "      <td>False</td>\n",
       "    </tr>\n",
       "    <tr>\n",
       "      <th>fit_intercept</th>\n",
       "      <td>False</td>\n",
       "    </tr>\n",
       "    <tr>\n",
       "      <th>intercept_scaling</th>\n",
       "      <td>1</td>\n",
       "    </tr>\n",
       "    <tr>\n",
       "      <th>l1_ratio</th>\n",
       "      <td>None</td>\n",
       "    </tr>\n",
       "    <tr>\n",
       "      <th>max_iter</th>\n",
       "      <td>100</td>\n",
       "    </tr>\n",
       "    <tr>\n",
       "      <th>multi_class</th>\n",
       "      <td>auto</td>\n",
       "    </tr>\n",
       "    <tr>\n",
       "      <th>n_jobs</th>\n",
       "      <td>None</td>\n",
       "    </tr>\n",
       "    <tr>\n",
       "      <th>penalty</th>\n",
       "      <td>l2</td>\n",
       "    </tr>\n",
       "    <tr>\n",
       "      <th>random_state</th>\n",
       "      <td>None</td>\n",
       "    </tr>\n",
       "    <tr>\n",
       "      <th>solver</th>\n",
       "      <td>liblinear</td>\n",
       "    </tr>\n",
       "    <tr>\n",
       "      <th>tol</th>\n",
       "      <td>1e-08</td>\n",
       "    </tr>\n",
       "    <tr>\n",
       "      <th>verbose</th>\n",
       "      <td>0</td>\n",
       "    </tr>\n",
       "    <tr>\n",
       "      <th>warm_start</th>\n",
       "      <td>False</td>\n",
       "    </tr>\n",
       "  </tbody>\n",
       "</table>\n",
       "</div>"
      ],
      "text/plain": [
       "                  parameters\n",
       "C                          1\n",
       "class_weight        balanced\n",
       "dual                   False\n",
       "fit_intercept          False\n",
       "intercept_scaling          1\n",
       "l1_ratio                None\n",
       "max_iter                 100\n",
       "multi_class             auto\n",
       "n_jobs                  None\n",
       "penalty                   l2\n",
       "random_state            None\n",
       "solver             liblinear\n",
       "tol                    1e-08\n",
       "verbose                    0\n",
       "warm_start             False"
      ]
     },
     "metadata": {},
     "output_type": "display_data"
    }
   ],
   "source": [
    "# Evaluate best estimating model.\n",
    "evaluate_model(log_grid.best_estimator_, X_train, y_train, \\\n",
    "               X_test, y_test, params=True)"
   ]
  },
  {
   "cell_type": "code",
   "execution_count": 46,
   "metadata": {
    "ExecuteTime": {
     "end_time": "2021-11-07T07:11:38.548214Z",
     "start_time": "2021-11-07T07:11:38.335804Z"
    }
   },
   "outputs": [
    {
     "data": {
      "text/plain": [
       "RandomForestClassifier(class_weight='balanced')"
      ]
     },
     "execution_count": 46,
     "metadata": {},
     "output_type": "execute_result"
    }
   ],
   "source": [
    "rf = RandomForestClassifier(class_weight='balanced')\n",
    "rf.fit(X_train, y_train)"
   ]
  },
  {
   "cell_type": "code",
   "execution_count": 47,
   "metadata": {
    "ExecuteTime": {
     "end_time": "2021-11-07T07:11:38.960015Z",
     "start_time": "2021-11-07T07:11:38.550286Z"
    }
   },
   "outputs": [
    {
     "name": "stdout",
     "output_type": "stream",
     "text": [
      "****CLASSIFICATION REPORT - TRAINING DATA****\n",
      "              precision    recall  f1-score   support\n",
      "\n",
      "           0     1.0000    1.0000    1.0000       306\n",
      "           1     1.0000    1.0000    1.0000       381\n",
      "\n",
      "    accuracy                         1.0000       687\n",
      "   macro avg     1.0000    1.0000    1.0000       687\n",
      "weighted avg     1.0000    1.0000    1.0000       687\n",
      "\n",
      "****CLASSIFICATION REPORT - TEST DATA****\n",
      "              precision    recall  f1-score   support\n",
      "\n",
      "           0     0.9000    0.7864    0.8394       103\n",
      "           1     0.8417    0.9286    0.8830       126\n",
      "\n",
      "    accuracy                         0.8646       229\n",
      "   macro avg     0.8709    0.8575    0.8612       229\n",
      "weighted avg     0.8679    0.8646    0.8634       229\n",
      "\n",
      "****CONFUSION MATRIX AND ROC-AUC VISUALIZATION****\n"
     ]
    },
    {
     "data": {
      "image/png": "[encoded data removed]",
      "text/plain": [
       "<Figure size 720x360 with 3 Axes>"
      ]
     },
     "metadata": {
      "needs_background": "light"
     },
     "output_type": "display_data"
    }
   ],
   "source": [
    "evaluate_model(rf, X_train, y_train, X_test, y_test)"
   ]
  },
  {
   "cell_type": "code",
   "execution_count": 48,
   "metadata": {
    "ExecuteTime": {
     "end_time": "2021-11-07T07:14:03.229095Z",
     "start_time": "2021-11-07T07:11:38.962121Z"
    }
   },
   "outputs": [
    {
     "data": {
      "text/plain": [
       "GridSearchCV(estimator=RandomForestClassifier(class_weight='balanced'),\n",
       "             param_grid={'criterion': ['gini', 'entropy'],\n",
       "                         'max_depth': [4, 5, 6], 'min_samples_leaf': [2, 3, 4],\n",
       "                         'n_estimators': [100, 1000]},\n",
       "             scoring='recall_macro')"
      ]
     },
     "execution_count": 48,
     "metadata": {},
     "output_type": "execute_result"
    }
   ],
   "source": [
    "rf = RandomForestClassifier(class_weight='balanced')\n",
    "\n",
    "params = {'criterion': ['gini', 'entropy'],\n",
    "          'max_depth': [4, 5, 6],\n",
    "          'min_samples_leaf': [2, 3, 4],\n",
    "          'n_estimators': [100, 1000]}\n",
    "rf_grid = GridSearchCV(rf, params, scoring='recall_macro')\n",
    "rf_grid.fit(X_train, y_train)"
   ]
  },
  {
   "cell_type": "code",
   "execution_count": 49,
   "metadata": {
    "ExecuteTime": {
     "end_time": "2021-11-07T07:14:03.237692Z",
     "start_time": "2021-11-07T07:14:03.231207Z"
    }
   },
   "outputs": [
    {
     "data": {
      "text/plain": [
       "{'criterion': 'entropy',\n",
       " 'max_depth': 6,\n",
       " 'min_samples_leaf': 3,\n",
       " 'n_estimators': 1000}"
      ]
     },
     "execution_count": 49,
     "metadata": {},
     "output_type": "execute_result"
    }
   ],
   "source": [
    "rf_grid.best_params_"
   ]
  },
  {
   "cell_type": "code",
   "execution_count": 50,
   "metadata": {
    "ExecuteTime": {
     "end_time": "2021-11-07T07:14:04.039665Z",
     "start_time": "2021-11-07T07:14:03.240872Z"
    }
   },
   "outputs": [
    {
     "name": "stdout",
     "output_type": "stream",
     "text": [
      "****CLASSIFICATION REPORT - TRAINING DATA****\n",
      "              precision    recall  f1-score   support\n",
      "\n",
      "           0     0.9147    0.8758    0.8948       306\n",
      "           1     0.9036    0.9344    0.9187       381\n",
      "\n",
      "    accuracy                         0.9083       687\n",
      "   macro avg     0.9091    0.9051    0.9068       687\n",
      "weighted avg     0.9085    0.9083    0.9081       687\n",
      "\n",
      "****CLASSIFICATION REPORT - TEST DATA****\n",
      "              precision    recall  f1-score   support\n",
      "\n",
      "           0     0.8646    0.8058    0.8342       103\n",
      "           1     0.8496    0.8968    0.8726       126\n",
      "\n",
      "    accuracy                         0.8559       229\n",
      "   macro avg     0.8571    0.8513    0.8534       229\n",
      "weighted avg     0.8564    0.8559    0.8553       229\n",
      "\n",
      "****CONFUSION MATRIX AND ROC-AUC VISUALIZATION****\n"
     ]
    },
    {
     "data": {
      "image/png": "[encoded data removed]",
      "text/plain": [
       "<Figure size 720x360 with 3 Axes>"
      ]
     },
     "metadata": {
      "needs_background": "light"
     },
     "output_type": "display_data"
    },
    {
     "name": "stdout",
     "output_type": "stream",
     "text": [
      "****MODEL PARAMETERS****\n"
     ]
    },
    {
     "data": {
      "text/html": [
       "<div>\n",
       "<style scoped>\n",
       "    .dataframe tbody tr th:only-of-type {\n",
       "        vertical-align: middle;\n",
       "    }\n",
       "\n",
       "    .dataframe tbody tr th {\n",
       "        vertical-align: top;\n",
       "    }\n",
       "\n",
       "    .dataframe thead th {\n",
       "        text-align: right;\n",
       "    }\n",
       "</style>\n",
       "<table border=\"1\" class=\"dataframe\">\n",
       "  <thead>\n",
       "    <tr style=\"text-align: right;\">\n",
       "      <th></th>\n",
       "      <th>parameters</th>\n",
       "    </tr>\n",
       "  </thead>\n",
       "  <tbody>\n",
       "    <tr>\n",
       "      <th>bootstrap</th>\n",
       "      <td>True</td>\n",
       "    </tr>\n",
       "    <tr>\n",
       "      <th>ccp_alpha</th>\n",
       "      <td>0</td>\n",
       "    </tr>\n",
       "    <tr>\n",
       "      <th>class_weight</th>\n",
       "      <td>balanced</td>\n",
       "    </tr>\n",
       "    <tr>\n",
       "      <th>criterion</th>\n",
       "      <td>entropy</td>\n",
       "    </tr>\n",
       "    <tr>\n",
       "      <th>max_depth</th>\n",
       "      <td>6</td>\n",
       "    </tr>\n",
       "    <tr>\n",
       "      <th>max_features</th>\n",
       "      <td>auto</td>\n",
       "    </tr>\n",
       "    <tr>\n",
       "      <th>max_leaf_nodes</th>\n",
       "      <td>None</td>\n",
       "    </tr>\n",
       "    <tr>\n",
       "      <th>max_samples</th>\n",
       "      <td>None</td>\n",
       "    </tr>\n",
       "    <tr>\n",
       "      <th>min_impurity_decrease</th>\n",
       "      <td>0</td>\n",
       "    </tr>\n",
       "    <tr>\n",
       "      <th>min_impurity_split</th>\n",
       "      <td>None</td>\n",
       "    </tr>\n",
       "    <tr>\n",
       "      <th>min_samples_leaf</th>\n",
       "      <td>3</td>\n",
       "    </tr>\n",
       "    <tr>\n",
       "      <th>min_samples_split</th>\n",
       "      <td>2</td>\n",
       "    </tr>\n",
       "    <tr>\n",
       "      <th>min_weight_fraction_leaf</th>\n",
       "      <td>0</td>\n",
       "    </tr>\n",
       "    <tr>\n",
       "      <th>n_estimators</th>\n",
       "      <td>1000</td>\n",
       "    </tr>\n",
       "    <tr>\n",
       "      <th>n_jobs</th>\n",
       "      <td>None</td>\n",
       "    </tr>\n",
       "    <tr>\n",
       "      <th>oob_score</th>\n",
       "      <td>False</td>\n",
       "    </tr>\n",
       "    <tr>\n",
       "      <th>random_state</th>\n",
       "      <td>None</td>\n",
       "    </tr>\n",
       "    <tr>\n",
       "      <th>verbose</th>\n",
       "      <td>0</td>\n",
       "    </tr>\n",
       "    <tr>\n",
       "      <th>warm_start</th>\n",
       "      <td>False</td>\n",
       "    </tr>\n",
       "  </tbody>\n",
       "</table>\n",
       "</div>"
      ],
      "text/plain": [
       "                         parameters\n",
       "bootstrap                      True\n",
       "ccp_alpha                         0\n",
       "class_weight               balanced\n",
       "criterion                   entropy\n",
       "max_depth                         6\n",
       "max_features                   auto\n",
       "max_leaf_nodes                 None\n",
       "max_samples                    None\n",
       "min_impurity_decrease             0\n",
       "min_impurity_split             None\n",
       "min_samples_leaf                  3\n",
       "min_samples_split                 2\n",
       "min_weight_fraction_leaf          0\n",
       "n_estimators                   1000\n",
       "n_jobs                         None\n",
       "oob_score                     False\n",
       "random_state                   None\n",
       "verbose                           0\n",
       "warm_start                    False"
      ]
     },
     "metadata": {},
     "output_type": "display_data"
    }
   ],
   "source": [
    "# Evaluate best estimating model.\n",
    "evaluate_model(rf_grid.best_estimator_, X_train, y_train, \\\n",
    "               X_test, y_test, params=True)"
   ]
  },
  {
   "cell_type": "code",
   "execution_count": 51,
   "metadata": {
    "ExecuteTime": {
     "end_time": "2021-11-07T07:14:04.103260Z",
     "start_time": "2021-11-07T07:14:04.041874Z"
    }
   },
   "outputs": [
    {
     "data": {
      "text/plain": [
       "XGBRFClassifier(base_score=0.5, booster='gbtree', colsample_bylevel=1,\n",
       "                colsample_bytree=1, gamma=0, gpu_id=-1, importance_type='gain',\n",
       "                interaction_constraints='', max_delta_step=0, max_depth=6,\n",
       "                min_child_weight=1, missing=nan, monotone_constraints='()',\n",
       "                n_estimators=100, n_jobs=0, num_parallel_tree=100,\n",
       "                objective='binary:logistic', random_state=0, reg_alpha=0,\n",
       "                scale_pos_weight=1, tree_method='exact', validate_parameters=1,\n",
       "                verbosity=None)"
      ]
     },
     "execution_count": 51,
     "metadata": {},
     "output_type": "execute_result"
    }
   ],
   "source": [
    "# Fit and evaluate XGBoost on df_select.\n",
    "xgb = XGBRFClassifier()\n",
    "xgb.fit(X_train, y_train)"
   ]
  },
  {
   "cell_type": "code",
   "execution_count": 52,
   "metadata": {
    "ExecuteTime": {
     "end_time": "2021-11-07T07:14:04.519830Z",
     "start_time": "2021-11-07T07:14:04.105449Z"
    }
   },
   "outputs": [
    {
     "name": "stdout",
     "output_type": "stream",
     "text": [
      "****CLASSIFICATION REPORT - TRAINING DATA****\n",
      "              precision    recall  f1-score   support\n",
      "\n",
      "           0     0.9276    0.8791    0.9027       306\n",
      "           1     0.9068    0.9449    0.9254       381\n",
      "\n",
      "    accuracy                         0.9156       687\n",
      "   macro avg     0.9172    0.9120    0.9141       687\n",
      "weighted avg     0.9161    0.9156    0.9153       687\n",
      "\n",
      "****CLASSIFICATION REPORT - TEST DATA****\n",
      "              precision    recall  f1-score   support\n",
      "\n",
      "           0     0.8830    0.8058    0.8426       103\n",
      "           1     0.8519    0.9127    0.8812       126\n",
      "\n",
      "    accuracy                         0.8646       229\n",
      "   macro avg     0.8674    0.8593    0.8619       229\n",
      "weighted avg     0.8659    0.8646    0.8639       229\n",
      "\n",
      "****CONFUSION MATRIX AND ROC-AUC VISUALIZATION****\n"
     ]
    },
    {
     "data": {
      "image/png": "[encoded data removed]",
      "text/plain": [
       "<Figure size 720x360 with 3 Axes>"
      ]
     },
     "metadata": {
      "needs_background": "light"
     },
     "output_type": "display_data"
    }
   ],
   "source": [
    "evaluate_model(xgb, X_train, y_train, X_test, y_test)"
   ]
  },
  {
   "cell_type": "code",
   "execution_count": 53,
   "metadata": {
    "ExecuteTime": {
     "end_time": "2021-11-07T07:14:17.541256Z",
     "start_time": "2021-11-07T07:14:04.522256Z"
    }
   },
   "outputs": [
    {
     "data": {
      "text/plain": [
       "GridSearchCV(estimator=XGBRFClassifier(base_score=None, booster=None,\n",
       "                                       colsample_bylevel=None,\n",
       "                                       colsample_bytree=None, gamma=None,\n",
       "                                       gpu_id=None, importance_type='gain',\n",
       "                                       interaction_constraints=None,\n",
       "                                       max_delta_step=None, max_depth=None,\n",
       "                                       min_child_weight=None, missing=nan,\n",
       "                                       monotone_constraints=None,\n",
       "                                       n_estimators=100, n_jobs=None,\n",
       "                                       num_parallel_tree=None,\n",
       "                                       objective='binary:logistic',\n",
       "                                       random_state=None, reg_alpha=None,\n",
       "                                       scale_pos_weight=None, tree_method=None,\n",
       "                                       validate_parameters=None,\n",
       "                                       verbosity=None),\n",
       "             param_grid={'learning_rate': [0.03, 0.05, 0.06],\n",
       "                         'max_depth': [4, 5, 6], 'min_child_weight': [2, 3, 4],\n",
       "                         'n_estimators': [100], 'subsample': [0.3, 0.4, 0.5]},\n",
       "             scoring='recall_macro')"
      ]
     },
     "execution_count": 53,
     "metadata": {},
     "output_type": "execute_result"
    }
   ],
   "source": [
    "# Create parameter grid for XGBoost Random Forest gridsearch and fit to data.\n",
    "xgb_rf = XGBRFClassifier()\n",
    "\n",
    "params = {'learning_rate': [0.03, 0.05, 0.06],\n",
    "          'max_depth': [4, 5, 6],\n",
    "          'min_child_weight': [2, 3, 4],\n",
    "          'subsample': [0.3, 0.4, 0.5],\n",
    "          'n_estimators': [100]}\n",
    "\n",
    "xgb_grid = GridSearchCV(xgb_rf, params, scoring='recall_macro')\n",
    "xgb_grid.fit(X_train, y_train)"
   ]
  },
  {
   "cell_type": "code",
   "execution_count": 54,
   "metadata": {
    "ExecuteTime": {
     "end_time": "2021-11-07T07:14:17.548090Z",
     "start_time": "2021-11-07T07:14:17.543495Z"
    }
   },
   "outputs": [
    {
     "data": {
      "text/plain": [
       "{'learning_rate': 0.03,\n",
       " 'max_depth': 6,\n",
       " 'min_child_weight': 3,\n",
       " 'n_estimators': 100,\n",
       " 'subsample': 0.5}"
      ]
     },
     "execution_count": 54,
     "metadata": {},
     "output_type": "execute_result"
    }
   ],
   "source": [
    "# Print best params for xgb_grid\n",
    "xgb_grid.best_params_"
   ]
  },
  {
   "cell_type": "code",
   "execution_count": 55,
   "metadata": {
    "ExecuteTime": {
     "end_time": "2021-11-07T07:14:17.968612Z",
     "start_time": "2021-11-07T07:14:17.550429Z"
    }
   },
   "outputs": [
    {
     "name": "stdout",
     "output_type": "stream",
     "text": [
      "****CLASSIFICATION REPORT - TRAINING DATA****\n",
      "              precision    recall  f1-score   support\n",
      "\n",
      "           0     0.9025    0.8170    0.8576       306\n",
      "           1     0.8634    0.9291    0.8951       381\n",
      "\n",
      "    accuracy                         0.8792       687\n",
      "   macro avg     0.8830    0.8731    0.8764       687\n",
      "weighted avg     0.8808    0.8792    0.8784       687\n",
      "\n",
      "****CLASSIFICATION REPORT - TEST DATA****\n",
      "              precision    recall  f1-score   support\n",
      "\n",
      "           0     0.8247    0.7767    0.8000       103\n",
      "           1     0.8258    0.8651    0.8450       126\n",
      "\n",
      "    accuracy                         0.8253       229\n",
      "   macro avg     0.8252    0.8209    0.8225       229\n",
      "weighted avg     0.8253    0.8253    0.8247       229\n",
      "\n",
      "****CONFUSION MATRIX AND ROC-AUC VISUALIZATION****\n"
     ]
    },
    {
     "data": {
      "image/png": "[encoded data removed]",
      "text/plain": [
       "<Figure size 720x360 with 3 Axes>"
      ]
     },
     "metadata": {
      "needs_background": "light"
     },
     "output_type": "display_data"
    },
    {
     "name": "stdout",
     "output_type": "stream",
     "text": [
      "****MODEL PARAMETERS****\n"
     ]
    },
    {
     "data": {
      "text/html": [
       "<div>\n",
       "<style scoped>\n",
       "    .dataframe tbody tr th:only-of-type {\n",
       "        vertical-align: middle;\n",
       "    }\n",
       "\n",
       "    .dataframe tbody tr th {\n",
       "        vertical-align: top;\n",
       "    }\n",
       "\n",
       "    .dataframe thead th {\n",
       "        text-align: right;\n",
       "    }\n",
       "</style>\n",
       "<table border=\"1\" class=\"dataframe\">\n",
       "  <thead>\n",
       "    <tr style=\"text-align: right;\">\n",
       "      <th></th>\n",
       "      <th>parameters</th>\n",
       "    </tr>\n",
       "  </thead>\n",
       "  <tbody>\n",
       "    <tr>\n",
       "      <th>colsample_bynode</th>\n",
       "      <td>0.8</td>\n",
       "    </tr>\n",
       "    <tr>\n",
       "      <th>learning_rate</th>\n",
       "      <td>0.03</td>\n",
       "    </tr>\n",
       "    <tr>\n",
       "      <th>reg_lambda</th>\n",
       "      <td>1e-05</td>\n",
       "    </tr>\n",
       "    <tr>\n",
       "      <th>subsample</th>\n",
       "      <td>0.5</td>\n",
       "    </tr>\n",
       "    <tr>\n",
       "      <th>objective</th>\n",
       "      <td>binary:logistic</td>\n",
       "    </tr>\n",
       "    <tr>\n",
       "      <th>base_score</th>\n",
       "      <td>0.5</td>\n",
       "    </tr>\n",
       "    <tr>\n",
       "      <th>booster</th>\n",
       "      <td>gbtree</td>\n",
       "    </tr>\n",
       "    <tr>\n",
       "      <th>colsample_bylevel</th>\n",
       "      <td>1</td>\n",
       "    </tr>\n",
       "    <tr>\n",
       "      <th>colsample_bytree</th>\n",
       "      <td>1</td>\n",
       "    </tr>\n",
       "    <tr>\n",
       "      <th>gamma</th>\n",
       "      <td>0</td>\n",
       "    </tr>\n",
       "    <tr>\n",
       "      <th>gpu_id</th>\n",
       "      <td>-1</td>\n",
       "    </tr>\n",
       "    <tr>\n",
       "      <th>importance_type</th>\n",
       "      <td>gain</td>\n",
       "    </tr>\n",
       "    <tr>\n",
       "      <th>interaction_constraints</th>\n",
       "      <td></td>\n",
       "    </tr>\n",
       "    <tr>\n",
       "      <th>max_delta_step</th>\n",
       "      <td>0</td>\n",
       "    </tr>\n",
       "    <tr>\n",
       "      <th>max_depth</th>\n",
       "      <td>6</td>\n",
       "    </tr>\n",
       "    <tr>\n",
       "      <th>min_child_weight</th>\n",
       "      <td>3</td>\n",
       "    </tr>\n",
       "    <tr>\n",
       "      <th>missing</th>\n",
       "      <td>NaN</td>\n",
       "    </tr>\n",
       "    <tr>\n",
       "      <th>monotone_constraints</th>\n",
       "      <td>()</td>\n",
       "    </tr>\n",
       "    <tr>\n",
       "      <th>n_estimators</th>\n",
       "      <td>100</td>\n",
       "    </tr>\n",
       "    <tr>\n",
       "      <th>n_jobs</th>\n",
       "      <td>0</td>\n",
       "    </tr>\n",
       "    <tr>\n",
       "      <th>num_parallel_tree</th>\n",
       "      <td>100</td>\n",
       "    </tr>\n",
       "    <tr>\n",
       "      <th>random_state</th>\n",
       "      <td>0</td>\n",
       "    </tr>\n",
       "    <tr>\n",
       "      <th>reg_alpha</th>\n",
       "      <td>0</td>\n",
       "    </tr>\n",
       "    <tr>\n",
       "      <th>scale_pos_weight</th>\n",
       "      <td>1</td>\n",
       "    </tr>\n",
       "    <tr>\n",
       "      <th>tree_method</th>\n",
       "      <td>exact</td>\n",
       "    </tr>\n",
       "    <tr>\n",
       "      <th>validate_parameters</th>\n",
       "      <td>1</td>\n",
       "    </tr>\n",
       "    <tr>\n",
       "      <th>verbosity</th>\n",
       "      <td>None</td>\n",
       "    </tr>\n",
       "  </tbody>\n",
       "</table>\n",
       "</div>"
      ],
      "text/plain": [
       "                              parameters\n",
       "colsample_bynode                     0.8\n",
       "learning_rate                       0.03\n",
       "reg_lambda                         1e-05\n",
       "subsample                            0.5\n",
       "objective                binary:logistic\n",
       "base_score                           0.5\n",
       "booster                           gbtree\n",
       "colsample_bylevel                      1\n",
       "colsample_bytree                       1\n",
       "gamma                                  0\n",
       "gpu_id                                -1\n",
       "importance_type                     gain\n",
       "interaction_constraints                 \n",
       "max_delta_step                         0\n",
       "max_depth                              6\n",
       "min_child_weight                       3\n",
       "missing                              NaN\n",
       "monotone_constraints                  ()\n",
       "n_estimators                         100\n",
       "n_jobs                                 0\n",
       "num_parallel_tree                    100\n",
       "random_state                           0\n",
       "reg_alpha                              0\n",
       "scale_pos_weight                       1\n",
       "tree_method                        exact\n",
       "validate_parameters                    1\n",
       "verbosity                           None"
      ]
     },
     "metadata": {},
     "output_type": "display_data"
    }
   ],
   "source": [
    "# Evaluate best estimating model.\n",
    "evaluate_model(xgb_grid.best_estimator_, X_train, y_train, X_test, y_test, params=True)"
   ]
  },
  {
   "cell_type": "code",
   "execution_count": 56,
   "metadata": {
    "ExecuteTime": {
     "end_time": "2021-11-07T07:14:53.150149Z",
     "start_time": "2021-11-07T07:14:17.971141Z"
    }
   },
   "outputs": [
    {
     "data": {
      "text/plain": [
       "GridSearchCV(estimator=XGBRFClassifier(base_score=None, booster=None,\n",
       "                                       colsample_bylevel=None,\n",
       "                                       colsample_bytree=None, gamma=None,\n",
       "                                       gpu_id=None, importance_type='gain',\n",
       "                                       interaction_constraints=None,\n",
       "                                       max_delta_step=None, max_depth=None,\n",
       "                                       min_child_weight=None, missing=nan,\n",
       "                                       monotone_constraints=None,\n",
       "                                       n_estimators=100, n_jobs=None,\n",
       "                                       num_parallel_tree=None,\n",
       "                                       objective='binary:logistic',\n",
       "                                       random_state=None, reg_alpha=None,\n",
       "                                       scale_pos_weight=None, tree_method=None,\n",
       "                                       validate_parameters=None,\n",
       "                                       verbosity=None),\n",
       "             param_grid={'learning_rate': [0.001, 0.1, 0.03],\n",
       "                         'max_depth': [4, 5, 6], 'min_child_weight': [1, 2, 3],\n",
       "                         'n_estimators': [100, 200],\n",
       "                         'subsample': [0.4, 0.5, 0.6]},\n",
       "             scoring='recall_macro')"
      ]
     },
     "execution_count": 56,
     "metadata": {},
     "output_type": "execute_result"
    }
   ],
   "source": [
    "# Create parameter grid for XGBoost Random Forest gridsearch and fit to data.\n",
    "xgb_rf = XGBRFClassifier()\n",
    "\n",
    "params = {'learning_rate': [0.001, 0.1, 0.03],\n",
    "          'max_depth': [4, 5, 6],\n",
    "          'min_child_weight': [1, 2, 3],\n",
    "          'subsample': [0.4, 0.5, 0.6],\n",
    "          'n_estimators': [100, 200]}\n",
    "\n",
    "xgb_grid = GridSearchCV(xgb_rf, params, scoring='recall_macro')\n",
    "xgb_grid.fit(X_train, y_train)"
   ]
  },
  {
   "cell_type": "code",
   "execution_count": 57,
   "metadata": {
    "ExecuteTime": {
     "end_time": "2021-11-07T07:14:53.157552Z",
     "start_time": "2021-11-07T07:14:53.152302Z"
    }
   },
   "outputs": [
    {
     "data": {
      "text/plain": [
       "{'learning_rate': 0.001,\n",
       " 'max_depth': 6,\n",
       " 'min_child_weight': 1,\n",
       " 'n_estimators': 100,\n",
       " 'subsample': 0.4}"
      ]
     },
     "execution_count": 57,
     "metadata": {},
     "output_type": "execute_result"
    }
   ],
   "source": [
    "# Print best params for xgb_grid\n",
    "xgb_grid.best_params_"
   ]
  },
  {
   "cell_type": "code",
   "execution_count": 58,
   "metadata": {
    "ExecuteTime": {
     "end_time": "2021-11-07T07:14:53.693423Z",
     "start_time": "2021-11-07T07:14:53.160289Z"
    }
   },
   "outputs": [
    {
     "name": "stdout",
     "output_type": "stream",
     "text": [
      "****CLASSIFICATION REPORT - TRAINING DATA****\n",
      "              precision    recall  f1-score   support\n",
      "\n",
      "           0     0.9097    0.8562    0.8822       306\n",
      "           1     0.8897    0.9318    0.9103       381\n",
      "\n",
      "    accuracy                         0.8981       687\n",
      "   macro avg     0.8997    0.8940    0.8962       687\n",
      "weighted avg     0.8986    0.8981    0.8977       687\n",
      "\n",
      "****CLASSIFICATION REPORT - TEST DATA****\n",
      "              precision    recall  f1-score   support\n",
      "\n",
      "           0     0.8632    0.7961    0.8283       103\n",
      "           1     0.8433    0.8968    0.8692       126\n",
      "\n",
      "    accuracy                         0.8515       229\n",
      "   macro avg     0.8532    0.8465    0.8488       229\n",
      "weighted avg     0.8522    0.8515    0.8508       229\n",
      "\n",
      "****CONFUSION MATRIX AND ROC-AUC VISUALIZATION****\n"
     ]
    },
    {
     "data": {
      "image/png": "[encoded data removed]",
      "text/plain": [
       "<Figure size 720x360 with 3 Axes>"
      ]
     },
     "metadata": {
      "needs_background": "light"
     },
     "output_type": "display_data"
    },
    {
     "name": "stdout",
     "output_type": "stream",
     "text": [
      "****MODEL PARAMETERS****\n"
     ]
    },
    {
     "data": {
      "text/html": [
       "<div>\n",
       "<style scoped>\n",
       "    .dataframe tbody tr th:only-of-type {\n",
       "        vertical-align: middle;\n",
       "    }\n",
       "\n",
       "    .dataframe tbody tr th {\n",
       "        vertical-align: top;\n",
       "    }\n",
       "\n",
       "    .dataframe thead th {\n",
       "        text-align: right;\n",
       "    }\n",
       "</style>\n",
       "<table border=\"1\" class=\"dataframe\">\n",
       "  <thead>\n",
       "    <tr style=\"text-align: right;\">\n",
       "      <th></th>\n",
       "      <th>parameters</th>\n",
       "    </tr>\n",
       "  </thead>\n",
       "  <tbody>\n",
       "    <tr>\n",
       "      <th>colsample_bynode</th>\n",
       "      <td>0.8</td>\n",
       "    </tr>\n",
       "    <tr>\n",
       "      <th>learning_rate</th>\n",
       "      <td>0.001</td>\n",
       "    </tr>\n",
       "    <tr>\n",
       "      <th>reg_lambda</th>\n",
       "      <td>1e-05</td>\n",
       "    </tr>\n",
       "    <tr>\n",
       "      <th>subsample</th>\n",
       "      <td>0.4</td>\n",
       "    </tr>\n",
       "    <tr>\n",
       "      <th>objective</th>\n",
       "      <td>binary:logistic</td>\n",
       "    </tr>\n",
       "    <tr>\n",
       "      <th>base_score</th>\n",
       "      <td>0.5</td>\n",
       "    </tr>\n",
       "    <tr>\n",
       "      <th>booster</th>\n",
       "      <td>gbtree</td>\n",
       "    </tr>\n",
       "    <tr>\n",
       "      <th>colsample_bylevel</th>\n",
       "      <td>1</td>\n",
       "    </tr>\n",
       "    <tr>\n",
       "      <th>colsample_bytree</th>\n",
       "      <td>1</td>\n",
       "    </tr>\n",
       "    <tr>\n",
       "      <th>gamma</th>\n",
       "      <td>0</td>\n",
       "    </tr>\n",
       "    <tr>\n",
       "      <th>gpu_id</th>\n",
       "      <td>-1</td>\n",
       "    </tr>\n",
       "    <tr>\n",
       "      <th>importance_type</th>\n",
       "      <td>gain</td>\n",
       "    </tr>\n",
       "    <tr>\n",
       "      <th>interaction_constraints</th>\n",
       "      <td></td>\n",
       "    </tr>\n",
       "    <tr>\n",
       "      <th>max_delta_step</th>\n",
       "      <td>0</td>\n",
       "    </tr>\n",
       "    <tr>\n",
       "      <th>max_depth</th>\n",
       "      <td>6</td>\n",
       "    </tr>\n",
       "    <tr>\n",
       "      <th>min_child_weight</th>\n",
       "      <td>1</td>\n",
       "    </tr>\n",
       "    <tr>\n",
       "      <th>missing</th>\n",
       "      <td>NaN</td>\n",
       "    </tr>\n",
       "    <tr>\n",
       "      <th>monotone_constraints</th>\n",
       "      <td>()</td>\n",
       "    </tr>\n",
       "    <tr>\n",
       "      <th>n_estimators</th>\n",
       "      <td>100</td>\n",
       "    </tr>\n",
       "    <tr>\n",
       "      <th>n_jobs</th>\n",
       "      <td>0</td>\n",
       "    </tr>\n",
       "    <tr>\n",
       "      <th>num_parallel_tree</th>\n",
       "      <td>100</td>\n",
       "    </tr>\n",
       "    <tr>\n",
       "      <th>random_state</th>\n",
       "      <td>0</td>\n",
       "    </tr>\n",
       "    <tr>\n",
       "      <th>reg_alpha</th>\n",
       "      <td>0</td>\n",
       "    </tr>\n",
       "    <tr>\n",
       "      <th>scale_pos_weight</th>\n",
       "      <td>1</td>\n",
       "    </tr>\n",
       "    <tr>\n",
       "      <th>tree_method</th>\n",
       "      <td>exact</td>\n",
       "    </tr>\n",
       "    <tr>\n",
       "      <th>validate_parameters</th>\n",
       "      <td>1</td>\n",
       "    </tr>\n",
       "    <tr>\n",
       "      <th>verbosity</th>\n",
       "      <td>None</td>\n",
       "    </tr>\n",
       "  </tbody>\n",
       "</table>\n",
       "</div>"
      ],
      "text/plain": [
       "                              parameters\n",
       "colsample_bynode                     0.8\n",
       "learning_rate                      0.001\n",
       "reg_lambda                         1e-05\n",
       "subsample                            0.4\n",
       "objective                binary:logistic\n",
       "base_score                           0.5\n",
       "booster                           gbtree\n",
       "colsample_bylevel                      1\n",
       "colsample_bytree                       1\n",
       "gamma                                  0\n",
       "gpu_id                                -1\n",
       "importance_type                     gain\n",
       "interaction_constraints                 \n",
       "max_delta_step                         0\n",
       "max_depth                              6\n",
       "min_child_weight                       1\n",
       "missing                              NaN\n",
       "monotone_constraints                  ()\n",
       "n_estimators                         100\n",
       "n_jobs                                 0\n",
       "num_parallel_tree                    100\n",
       "random_state                           0\n",
       "reg_alpha                              0\n",
       "scale_pos_weight                       1\n",
       "tree_method                        exact\n",
       "validate_parameters                    1\n",
       "verbosity                           None"
      ]
     },
     "metadata": {},
     "output_type": "display_data"
    }
   ],
   "source": [
    "# Evaluate best estimating model.\n",
    "evaluate_model(xgb_grid.best_estimator_, X_train, y_train, X_test, y_test, params=True)"
   ]
  },
  {
   "cell_type": "code",
   "execution_count": 59,
   "metadata": {
    "ExecuteTime": {
     "end_time": "2021-11-07T07:14:53.711723Z",
     "start_time": "2021-11-07T07:14:53.695268Z"
    }
   },
   "outputs": [
    {
     "data": {
      "text/plain": [
       "SVC()"
      ]
     },
     "execution_count": 59,
     "metadata": {},
     "output_type": "execute_result"
    }
   ],
   "source": [
    "# First model\n",
    "svm = SVC()\n",
    "svm.fit(X_train,y_train)"
   ]
  },
  {
   "cell_type": "code",
   "execution_count": 60,
   "metadata": {
    "ExecuteTime": {
     "end_time": "2021-11-07T07:14:54.128012Z",
     "start_time": "2021-11-07T07:14:53.750558Z"
    }
   },
   "outputs": [
    {
     "name": "stdout",
     "output_type": "stream",
     "text": [
      "****CLASSIFICATION REPORT - TRAINING DATA****\n",
      "              precision    recall  f1-score   support\n",
      "\n",
      "           0     0.9331    0.8660    0.8983       306\n",
      "           1     0.8983    0.9501    0.9235       381\n",
      "\n",
      "    accuracy                         0.9127       687\n",
      "   macro avg     0.9157    0.9081    0.9109       687\n",
      "weighted avg     0.9138    0.9127    0.9123       687\n",
      "\n",
      "****CLASSIFICATION REPORT - TEST DATA****\n",
      "              precision    recall  f1-score   support\n",
      "\n",
      "           0     0.9022    0.8058    0.8513       103\n",
      "           1     0.8540    0.9286    0.8897       126\n",
      "\n",
      "    accuracy                         0.8734       229\n",
      "   macro avg     0.8781    0.8672    0.8705       229\n",
      "weighted avg     0.8757    0.8734    0.8724       229\n",
      "\n",
      "****CONFUSION MATRIX AND ROC-AUC VISUALIZATION****\n"
     ]
    },
    {
     "data": {
      "image/png": "[encoded data removed]",
      "text/plain": [
       "<Figure size 720x360 with 3 Axes>"
      ]
     },
     "metadata": {
      "needs_background": "light"
     },
     "output_type": "display_data"
    }
   ],
   "source": [
    "evaluate_model(svm, X_train, y_train, X_test, y_test)"
   ]
  },
  {
   "cell_type": "code",
   "execution_count": null,
   "metadata": {
    "ExecuteTime": {
     "start_time": "2021-11-07T07:10:46.727Z"
    }
   },
   "outputs": [],
   "source": [
    "# Create parameter grid for XGBoost Random Forest gridsearch and fit to data.\n",
    "svm = SVC(class_weight='balanced')\n",
    "\n",
    "params = {'C': [0.1, 1, 10],\n",
    "          'kernel': ['linear', 'poly', 'rbf', 'sigmoid'],\n",
    "          'degree': [0, 1, 2, 3, 4, 5],\n",
    "          'gamma': ['scale', 'auto'],\n",
    "          'tol': [1e-4, 1e-3, 1e-2],\n",
    "          'shrinking' : [True, False],\n",
    "          'probability' : [True, False]}\n",
    "\n",
    "svm_grid = GridSearchCV(svm, params, scoring='recall_macro')\n",
    "svm_grid.fit(X_train, y_train)"
   ]
  },
  {
   "cell_type": "code",
   "execution_count": null,
   "metadata": {
    "ExecuteTime": {
     "start_time": "2021-11-07T07:10:46.730Z"
    }
   },
   "outputs": [],
   "source": [
    "svm_grid.best_params_"
   ]
  },
  {
   "cell_type": "code",
   "execution_count": null,
   "metadata": {
    "ExecuteTime": {
     "start_time": "2021-11-07T07:10:46.733Z"
    }
   },
   "outputs": [],
   "source": [
    "evaluate_model(svm_grid.best_estimator_, X_train, y_train, X_test, y_test)"
   ]
  },
  {
   "cell_type": "code",
   "execution_count": null,
   "metadata": {},
   "outputs": [],
   "source": []
  },
  {
   "cell_type": "code",
   "execution_count": null,
   "metadata": {},
   "outputs": [],
   "source": []
  },
  {
   "cell_type": "code",
   "execution_count": null,
   "metadata": {},
   "outputs": [],
   "source": []
  },
  {
   "cell_type": "code",
   "execution_count": null,
   "metadata": {},
   "outputs": [],
   "source": []
  },
  {
   "cell_type": "markdown",
   "metadata": {},
   "source": [
    "# SCRUB"
   ]
  },
  {
   "cell_type": "markdown",
   "metadata": {},
   "source": [
    "## Data Preparation\n",
    "\n",
    "Describe and justify the process for preparing the data for analysis.\n",
    "\n",
    "***\n",
    "Questions to consider:\n",
    "* Were there variables you dropped or created?\n",
    "* How did you address missing values or outliers?\n",
    "* Why are these choices appropriate given the data and the business problem?\n",
    "***"
   ]
  },
  {
   "cell_type": "code",
   "execution_count": null,
   "metadata": {},
   "outputs": [],
   "source": []
  },
  {
   "cell_type": "markdown",
   "metadata": {},
   "source": [
    "# EXPLORE"
   ]
  },
  {
   "cell_type": "code",
   "execution_count": null,
   "metadata": {},
   "outputs": [],
   "source": []
  },
  {
   "cell_type": "markdown",
   "metadata": {},
   "source": [
    "# MODEL"
   ]
  },
  {
   "cell_type": "markdown",
   "metadata": {},
   "source": [
    "## Data Modeling\n",
    "Describe and justify the process for analyzing or modeling the data.\n",
    "\n",
    "***\n",
    "Questions to consider:\n",
    "* How did you analyze or model the data?\n",
    "* How did you iterate on your initial approach to make it better?\n",
    "* Why are these choices appropriate given the data and the business problem?\n",
    "***"
   ]
  },
  {
   "cell_type": "code",
   "execution_count": null,
   "metadata": {},
   "outputs": [],
   "source": []
  },
  {
   "cell_type": "markdown",
   "metadata": {},
   "source": [
    "# iNTERPRET"
   ]
  },
  {
   "cell_type": "markdown",
   "metadata": {},
   "source": [
    "Evaluate how well your work solves the stated business problem.\n",
    "\n",
    "***\n",
    "Questions to consider:\n",
    "* How do you interpret the results?\n",
    "* How well does your model fit your data? How much better is this than your baseline model?\n",
    "* How confident are you that your results would generalize beyond the data you have?\n",
    "* How confident are you that this model would benefit the business if put into use?\n",
    "***"
   ]
  },
  {
   "cell_type": "code",
   "execution_count": null,
   "metadata": {},
   "outputs": [],
   "source": []
  },
  {
   "cell_type": "markdown",
   "metadata": {},
   "source": [
    "# CONCLUSIONS & RECOMMENDATIONS"
   ]
  },
  {
   "cell_type": "markdown",
   "metadata": {},
   "source": [
    "Provide your conclusions about the work you've done, including any limitations or next steps.\n",
    "\n",
    "***\n",
    "Questions to consider:\n",
    "* What would you recommend the business do as a result of this work?\n",
    "* What are some reasons why your analysis might not fully solve the business problem?\n",
    "* What else could you do in the future to improve this project?\n",
    "***"
   ]
  },
  {
   "cell_type": "code",
   "execution_count": null,
   "metadata": {},
   "outputs": [],
   "source": []
  }
 ],
 "metadata": {
  "kernelspec": {
   "display_name": "learn-env",
   "language": "python",
   "name": "learn-env"
  },
  "language_info": {
   "codemirror_mode": {
    "name": "ipython",
    "version": 3
   },
   "file_extension": ".py",
   "mimetype": "text/x-python",
   "name": "python",
   "nbconvert_exporter": "python",
   "pygments_lexer": "ipython3",
   "version": "3.8.5"
  },
  "toc": {
   "base_numbering": 1,
   "nav_menu": {},
   "number_sections": false,
   "sideBar": true,
   "skip_h1_title": false,
   "title_cell": "Table of Contents",
   "title_sidebar": "Contents",
   "toc_cell": false,
   "toc_position": {},
   "toc_section_display": true,
   "toc_window_display": true
  },
  "varInspector": {
   "cols": {
    "lenName": 16,
    "lenType": 16,
    "lenVar": 40
   },
   "kernels_config": {
    "python": {
     "delete_cmd_postfix": "",
     "delete_cmd_prefix": "del ",
     "library": "var_list.py",
     "varRefreshCmd": "print(var_dic_list())"
    },
    "r": {
     "delete_cmd_postfix": ") ",
     "delete_cmd_prefix": "rm(",
     "library": "var_list.r",
     "varRefreshCmd": "cat(var_dic_list()) "
    }
   },
   "types_to_exclude": [
    "module",
    "function",
    "builtin_function_or_method",
    "instance",
    "_Feature"
   ],
   "window_display": false
  }
 },
 "nbformat": 4,
 "nbformat_minor": 2
}
